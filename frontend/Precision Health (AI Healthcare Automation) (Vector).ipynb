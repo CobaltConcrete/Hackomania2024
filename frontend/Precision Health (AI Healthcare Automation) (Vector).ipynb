{
 "cells": [
  {
   "cell_type": "code",
   "execution_count": 3,
   "metadata": {
    "application/vnd.databricks.v1+cell": {
     "cellMetadata": {
      "byteLimit": 2048000,
      "rowLimit": 10000
     },
     "inputWidgets": {},
     "nuid": "455b092c-a849-4f7b-8603-257c09b21d47",
     "showTitle": false,
     "title": ""
    }
   },
   "outputs": [
    {
     "name": "stdout",
     "output_type": "stream",
     "text": [
      "1.3.2\n"
     ]
    }
   ],
   "source": [
    "import pandas as pd\n",
    "import numpy as np\n",
    "import sklearn\n",
    "\n",
    "from sklearn.preprocessing import LabelEncoder\n",
    "from sklearn.compose import make_column_transformer\n",
    "from sklearn.feature_extraction.text import CountVectorizer\n",
    "from sklearn.feature_extraction.text import TfidfTransformer\n",
    "from sklearn.metrics.pairwise import cosine_similarity\n",
    "import scipy.sparse\n",
    "\n",
    "from sklearn.model_selection import train_test_split\n",
    "from sklearn.linear_model import LogisticRegression\n",
    "from sklearn.metrics import accuracy_score\n",
    "from sklearn.ensemble import RandomForestClassifier\n",
    "from sklearn.tree import DecisionTreeClassifier\n",
    "from sklearn.svm import SVC\n",
    "from sklearn.naive_bayes import GaussianNB\n",
    "from sklearn.neighbors import KNeighborsClassifier\n",
    "from sklearn.pipeline import make_pipeline\n",
    "import joblib\n",
    "print(sklearn.__version__)"
   ]
  },
  {
   "cell_type": "code",
   "execution_count": 6,
   "metadata": {
    "application/vnd.databricks.v1+cell": {
     "cellMetadata": {
      "byteLimit": 2048000,
      "rowLimit": 10000
     },
     "inputWidgets": {},
     "nuid": "a2b213a1-1af1-4605-9cf5-20715dc6c597",
     "showTitle": false,
     "title": ""
    }
   },
   "outputs": [],
   "source": [
    "# AI Personalized Medicine System\n",
    "# df1 = pd.read_csv(\"/dbfs/FileStore/tables/medical_data-1.csv\")\n",
    "pandas_df = pd.read_csv('medical_data.csv')"
   ]
  },
  {
   "cell_type": "code",
   "execution_count": 7,
   "metadata": {
    "application/vnd.databricks.v1+cell": {
     "cellMetadata": {
      "byteLimit": 2048000,
      "rowLimit": 10000
     },
     "inputWidgets": {},
     "nuid": "97ef60b4-c4f5-42af-9ea6-0eef6371a910",
     "showTitle": false,
     "title": ""
    }
   },
   "outputs": [
    {
     "data": {
      "text/plain": [
       "Name           46\n",
       "DateOfBirth    46\n",
       "Gender         45\n",
       "Symptoms       40\n",
       "Causes         42\n",
       "Disease        38\n",
       "Medicine       45\n",
       "dtype: int64"
      ]
     },
     "execution_count": 7,
     "metadata": {},
     "output_type": "execute_result"
    }
   ],
   "source": [
    "pandas_df.isnull().sum()"
   ]
  },
  {
   "cell_type": "code",
   "execution_count": 8,
   "metadata": {
    "application/vnd.databricks.v1+cell": {
     "cellMetadata": {
      "byteLimit": 2048000,
      "rowLimit": 10000
     },
     "inputWidgets": {},
     "nuid": "65a7a8a9-5fa8-426c-9472-61c8ec902f70",
     "showTitle": false,
     "title": ""
    }
   },
   "outputs": [
    {
     "data": {
      "text/html": [
       "<div>\n",
       "<style scoped>\n",
       "    .dataframe tbody tr th:only-of-type {\n",
       "        vertical-align: middle;\n",
       "    }\n",
       "\n",
       "    .dataframe tbody tr th {\n",
       "        vertical-align: top;\n",
       "    }\n",
       "\n",
       "    .dataframe thead th {\n",
       "        text-align: right;\n",
       "    }\n",
       "</style>\n",
       "<table border=\"1\" class=\"dataframe\">\n",
       "  <thead>\n",
       "    <tr style=\"text-align: right;\">\n",
       "      <th></th>\n",
       "      <th>Name</th>\n",
       "      <th>DateOfBirth</th>\n",
       "      <th>Gender</th>\n",
       "      <th>Symptoms</th>\n",
       "      <th>Causes</th>\n",
       "      <th>Disease</th>\n",
       "      <th>Medicine</th>\n",
       "    </tr>\n",
       "  </thead>\n",
       "  <tbody>\n",
       "    <tr>\n",
       "      <th>0</th>\n",
       "      <td>John Doe</td>\n",
       "      <td>15-05-1980</td>\n",
       "      <td>Male</td>\n",
       "      <td>Fever, Cough</td>\n",
       "      <td>Viral Infection</td>\n",
       "      <td>Common Cold</td>\n",
       "      <td>Ibuprofen, Rest</td>\n",
       "    </tr>\n",
       "    <tr>\n",
       "      <th>1</th>\n",
       "      <td>Jane Smith</td>\n",
       "      <td>10-08-1992</td>\n",
       "      <td>Female</td>\n",
       "      <td>Headache, Fatigue</td>\n",
       "      <td>Stress</td>\n",
       "      <td>Migraine</td>\n",
       "      <td>Sumatriptan</td>\n",
       "    </tr>\n",
       "    <tr>\n",
       "      <th>2</th>\n",
       "      <td>Michael Lee</td>\n",
       "      <td>20-02-1975</td>\n",
       "      <td>Male</td>\n",
       "      <td>Shortness of breath</td>\n",
       "      <td>Pollution</td>\n",
       "      <td>Asthma</td>\n",
       "      <td>Albuterol Inhaler</td>\n",
       "    </tr>\n",
       "    <tr>\n",
       "      <th>3</th>\n",
       "      <td>Emily Chen</td>\n",
       "      <td>03-11-1988</td>\n",
       "      <td>Female</td>\n",
       "      <td>Nausea, Vomiting</td>\n",
       "      <td>Food Poisoning</td>\n",
       "      <td>Gastroenteritis</td>\n",
       "      <td>Oral Rehydration</td>\n",
       "    </tr>\n",
       "    <tr>\n",
       "      <th>4</th>\n",
       "      <td>Alex Wong</td>\n",
       "      <td>12-06-2001</td>\n",
       "      <td>Male</td>\n",
       "      <td>Sore Throat</td>\n",
       "      <td>Bacterial Infection</td>\n",
       "      <td>Strep Throat</td>\n",
       "      <td>Penicillin</td>\n",
       "    </tr>\n",
       "    <tr>\n",
       "      <th>...</th>\n",
       "      <td>...</td>\n",
       "      <td>...</td>\n",
       "      <td>...</td>\n",
       "      <td>...</td>\n",
       "      <td>...</td>\n",
       "      <td>...</td>\n",
       "      <td>...</td>\n",
       "    </tr>\n",
       "    <tr>\n",
       "      <th>282</th>\n",
       "      <td>Ava Lim</td>\n",
       "      <td>11-07-1993</td>\n",
       "      <td>Female</td>\n",
       "      <td>Cough, Shortness of breath</td>\n",
       "      <td>COVID-19 Exposure</td>\n",
       "      <td>COVID-19</td>\n",
       "      <td>Isolation, Fluids</td>\n",
       "    </tr>\n",
       "    <tr>\n",
       "      <th>283</th>\n",
       "      <td>Liam Goh</td>\n",
       "      <td>16-09-1987</td>\n",
       "      <td>Male</td>\n",
       "      <td>Itching, Redness</td>\n",
       "      <td>Allergies</td>\n",
       "      <td>Allergic Reaction An</td>\n",
       "      <td>tihistamine</td>\n",
       "    </tr>\n",
       "    <tr>\n",
       "      <th>284</th>\n",
       "      <td>Sophie Tan</td>\n",
       "      <td>18-02-1975</td>\n",
       "      <td>Female</td>\n",
       "      <td>Muscle Pain, Fatigue</td>\n",
       "      <td>Overexertion</td>\n",
       "      <td>Muscle Strain</td>\n",
       "      <td>Rest, Pain Relievers</td>\n",
       "    </tr>\n",
       "    <tr>\n",
       "      <th>285</th>\n",
       "      <td>Noah Lim</td>\n",
       "      <td>21-05-2005</td>\n",
       "      <td>Male</td>\n",
       "      <td>Nausea, Vomiting</td>\n",
       "      <td>Food Poisoning</td>\n",
       "      <td>Muscle Strain</td>\n",
       "      <td>Rehydration</td>\n",
       "    </tr>\n",
       "    <tr>\n",
       "      <th>286</th>\n",
       "      <td>Ella Wong</td>\n",
       "      <td>05-10-1999</td>\n",
       "      <td>Female</td>\n",
       "      <td>Headache, Blurred Vision</td>\n",
       "      <td>Eye Strain</td>\n",
       "      <td>Muscle Strain</td>\n",
       "      <td>Eye Exercises</td>\n",
       "    </tr>\n",
       "  </tbody>\n",
       "</table>\n",
       "<p>287 rows × 7 columns</p>\n",
       "</div>"
      ],
      "text/plain": [
       "            Name DateOfBirth  Gender                    Symptoms  \\\n",
       "0       John Doe  15-05-1980    Male                Fever, Cough   \n",
       "1     Jane Smith  10-08-1992  Female           Headache, Fatigue   \n",
       "2    Michael Lee  20-02-1975    Male         Shortness of breath   \n",
       "3     Emily Chen  03-11-1988  Female            Nausea, Vomiting   \n",
       "4      Alex Wong  12-06-2001    Male                 Sore Throat   \n",
       "..           ...         ...     ...                         ...   \n",
       "282      Ava Lim  11-07-1993  Female  Cough, Shortness of breath   \n",
       "283     Liam Goh  16-09-1987    Male            Itching, Redness   \n",
       "284   Sophie Tan  18-02-1975  Female        Muscle Pain, Fatigue   \n",
       "285     Noah Lim  21-05-2005    Male            Nausea, Vomiting   \n",
       "286    Ella Wong  05-10-1999  Female    Headache, Blurred Vision   \n",
       "\n",
       "                   Causes               Disease               Medicine  \n",
       "0         Viral Infection           Common Cold        Ibuprofen, Rest  \n",
       "1                  Stress              Migraine            Sumatriptan  \n",
       "2               Pollution                Asthma      Albuterol Inhaler  \n",
       "3          Food Poisoning       Gastroenteritis       Oral Rehydration  \n",
       "4     Bacterial Infection          Strep Throat             Penicillin  \n",
       "..                    ...                   ...                    ...  \n",
       "282  COVID-19 Exposure           COVID-19            Isolation, Fluids  \n",
       "283  Allergies             Allergic Reaction An            tihistamine  \n",
       "284  Overexertion               Muscle Strain     Rest, Pain Relievers  \n",
       "285      Food Poisoning         Muscle Strain              Rehydration  \n",
       "286  Eye Strain                 Muscle Strain            Eye Exercises  \n",
       "\n",
       "[287 rows x 7 columns]"
      ]
     },
     "execution_count": 8,
     "metadata": {},
     "output_type": "execute_result"
    }
   ],
   "source": [
    "pandas_df"
   ]
  },
  {
   "cell_type": "code",
   "execution_count": 9,
   "metadata": {
    "application/vnd.databricks.v1+cell": {
     "cellMetadata": {
      "byteLimit": 2048000,
      "rowLimit": 10000
     },
     "inputWidgets": {},
     "nuid": "4c6b6361-163a-4e63-8f59-24b0b3085426",
     "showTitle": false,
     "title": ""
    }
   },
   "outputs": [
    {
     "name": "stderr",
     "output_type": "stream",
     "text": [
      "C:\\Users\\Gan Qing Rong\\AppData\\Local\\Temp\\ipykernel_31276\\4138771068.py:1: UserWarning: Parsing dates in %d-%m-%Y format when dayfirst=False (the default) was specified. Pass `dayfirst=True` or specify a format to silence this warning.\n",
      "  pandas_df['DateOfBirth'] = pd.to_datetime(pandas_df['DateOfBirth'])\n"
     ]
    }
   ],
   "source": [
    "pandas_df['DateOfBirth'] = pd.to_datetime(pandas_df['DateOfBirth'])"
   ]
  },
  {
   "cell_type": "code",
   "execution_count": 10,
   "metadata": {
    "application/vnd.databricks.v1+cell": {
     "cellMetadata": {
      "byteLimit": 2048000,
      "rowLimit": 10000
     },
     "inputWidgets": {},
     "nuid": "95a94e6a-c867-4c82-bd57-35c13370451f",
     "showTitle": false,
     "title": ""
    }
   },
   "outputs": [],
   "source": [
    "mean_date = pandas_df['DateOfBirth'].dropna().mean()"
   ]
  },
  {
   "cell_type": "code",
   "execution_count": 11,
   "metadata": {
    "application/vnd.databricks.v1+cell": {
     "cellMetadata": {
      "byteLimit": 2048000,
      "rowLimit": 10000
     },
     "inputWidgets": {},
     "nuid": "1657f8a4-409a-46c9-b446-41f740209b0c",
     "showTitle": false,
     "title": ""
    }
   },
   "outputs": [
    {
     "name": "stderr",
     "output_type": "stream",
     "text": [
      "C:\\Users\\Gan Qing Rong\\AppData\\Local\\Temp\\ipykernel_31276\\1117711912.py:1: FutureWarning: A value is trying to be set on a copy of a DataFrame or Series through chained assignment using an inplace method.\n",
      "The behavior will change in pandas 3.0. This inplace method will never work because the intermediate object on which we are setting values always behaves as a copy.\n",
      "\n",
      "For example, when doing 'df[col].method(value, inplace=True)', try using 'df.method({col: value}, inplace=True)' or df[col] = df[col].method(value) instead, to perform the operation inplace on the original object.\n",
      "\n",
      "\n",
      "  pandas_df['DateOfBirth'].fillna(mean_date, inplace=True)\n"
     ]
    }
   ],
   "source": [
    "pandas_df['DateOfBirth'].fillna(mean_date, inplace=True)"
   ]
  },
  {
   "cell_type": "code",
   "execution_count": 12,
   "metadata": {
    "application/vnd.databricks.v1+cell": {
     "cellMetadata": {
      "byteLimit": 2048000,
      "rowLimit": 10000
     },
     "inputWidgets": {},
     "nuid": "0917fb60-d07a-4cd0-a73a-f05fbcc2bbe0",
     "showTitle": false,
     "title": ""
    }
   },
   "outputs": [
    {
     "name": "stderr",
     "output_type": "stream",
     "text": [
      "C:\\Users\\Gan Qing Rong\\AppData\\Local\\Temp\\ipykernel_31276\\3640952164.py:3: FutureWarning: A value is trying to be set on a copy of a DataFrame or Series through chained assignment using an inplace method.\n",
      "The behavior will change in pandas 3.0. This inplace method will never work because the intermediate object on which we are setting values always behaves as a copy.\n",
      "\n",
      "For example, when doing 'df[col].method(value, inplace=True)', try using 'df.method({col: value}, inplace=True)' or df[col] = df[col].method(value) instead, to perform the operation inplace on the original object.\n",
      "\n",
      "\n",
      "  pandas_df[column].fillna(pandas_df[column].mode()[0], inplace=True)\n"
     ]
    }
   ],
   "source": [
    "columns = ['Gender', 'Symptoms', 'Causes', 'Disease', 'Medicine']\n",
    "for column in columns:\n",
    "    pandas_df[column].fillna(pandas_df[column].mode()[0], inplace=True)"
   ]
  },
  {
   "cell_type": "code",
   "execution_count": 13,
   "metadata": {
    "application/vnd.databricks.v1+cell": {
     "cellMetadata": {
      "byteLimit": 2048000,
      "rowLimit": 10000
     },
     "inputWidgets": {},
     "nuid": "e6ccebe2-3362-40db-a0da-e73b25c4e538",
     "showTitle": false,
     "title": ""
    }
   },
   "outputs": [
    {
     "data": {
      "text/plain": [
       "Name           46\n",
       "DateOfBirth     0\n",
       "Gender          0\n",
       "Symptoms        0\n",
       "Causes          0\n",
       "Disease         0\n",
       "Medicine        0\n",
       "dtype: int64"
      ]
     },
     "execution_count": 13,
     "metadata": {},
     "output_type": "execute_result"
    }
   ],
   "source": [
    "pandas_df.isnull().sum()"
   ]
  },
  {
   "cell_type": "code",
   "execution_count": 14,
   "metadata": {
    "application/vnd.databricks.v1+cell": {
     "cellMetadata": {
      "byteLimit": 2048000,
      "rowLimit": 10000
     },
     "inputWidgets": {},
     "nuid": "8aef97ec-241b-48a4-a79c-6af4540db8dc",
     "showTitle": false,
     "title": ""
    }
   },
   "outputs": [
    {
     "name": "stderr",
     "output_type": "stream",
     "text": [
      "C:\\Users\\Gan Qing Rong\\AppData\\Local\\Temp\\ipykernel_31276\\3639085752.py:1: FutureWarning: A value is trying to be set on a copy of a DataFrame or Series through chained assignment using an inplace method.\n",
      "The behavior will change in pandas 3.0. This inplace method will never work because the intermediate object on which we are setting values always behaves as a copy.\n",
      "\n",
      "For example, when doing 'df[col].method(value, inplace=True)', try using 'df.method({col: value}, inplace=True)' or df[col] = df[col].method(value) instead, to perform the operation inplace on the original object.\n",
      "\n",
      "\n",
      "  pandas_df['Name'].fillna('Unknown Patient', inplace=True)\n"
     ]
    }
   ],
   "source": [
    "pandas_df['Name'].fillna('Unknown Patient', inplace=True)"
   ]
  },
  {
   "cell_type": "code",
   "execution_count": 15,
   "metadata": {
    "application/vnd.databricks.v1+cell": {
     "cellMetadata": {
      "byteLimit": 2048000,
      "rowLimit": 10000
     },
     "inputWidgets": {},
     "nuid": "095d8021-f31e-4103-9654-0511888f324c",
     "showTitle": false,
     "title": ""
    }
   },
   "outputs": [
    {
     "data": {
      "text/html": [
       "<div>\n",
       "<style scoped>\n",
       "    .dataframe tbody tr th:only-of-type {\n",
       "        vertical-align: middle;\n",
       "    }\n",
       "\n",
       "    .dataframe tbody tr th {\n",
       "        vertical-align: top;\n",
       "    }\n",
       "\n",
       "    .dataframe thead th {\n",
       "        text-align: right;\n",
       "    }\n",
       "</style>\n",
       "<table border=\"1\" class=\"dataframe\">\n",
       "  <thead>\n",
       "    <tr style=\"text-align: right;\">\n",
       "      <th></th>\n",
       "      <th>Name</th>\n",
       "      <th>DateOfBirth</th>\n",
       "      <th>Gender</th>\n",
       "      <th>Symptoms</th>\n",
       "      <th>Causes</th>\n",
       "      <th>Disease</th>\n",
       "      <th>Medicine</th>\n",
       "    </tr>\n",
       "  </thead>\n",
       "  <tbody>\n",
       "    <tr>\n",
       "      <th>0</th>\n",
       "      <td>John Doe</td>\n",
       "      <td>1980-05-15</td>\n",
       "      <td>Male</td>\n",
       "      <td>Fever, Cough</td>\n",
       "      <td>Viral Infection</td>\n",
       "      <td>Common Cold</td>\n",
       "      <td>Ibuprofen, Rest</td>\n",
       "    </tr>\n",
       "    <tr>\n",
       "      <th>1</th>\n",
       "      <td>Jane Smith</td>\n",
       "      <td>1992-08-10</td>\n",
       "      <td>Female</td>\n",
       "      <td>Headache, Fatigue</td>\n",
       "      <td>Stress</td>\n",
       "      <td>Migraine</td>\n",
       "      <td>Sumatriptan</td>\n",
       "    </tr>\n",
       "    <tr>\n",
       "      <th>2</th>\n",
       "      <td>Michael Lee</td>\n",
       "      <td>1975-02-20</td>\n",
       "      <td>Male</td>\n",
       "      <td>Shortness of breath</td>\n",
       "      <td>Pollution</td>\n",
       "      <td>Asthma</td>\n",
       "      <td>Albuterol Inhaler</td>\n",
       "    </tr>\n",
       "    <tr>\n",
       "      <th>3</th>\n",
       "      <td>Emily Chen</td>\n",
       "      <td>1988-11-03</td>\n",
       "      <td>Female</td>\n",
       "      <td>Nausea, Vomiting</td>\n",
       "      <td>Food Poisoning</td>\n",
       "      <td>Gastroenteritis</td>\n",
       "      <td>Oral Rehydration</td>\n",
       "    </tr>\n",
       "    <tr>\n",
       "      <th>4</th>\n",
       "      <td>Alex Wong</td>\n",
       "      <td>2001-06-12</td>\n",
       "      <td>Male</td>\n",
       "      <td>Sore Throat</td>\n",
       "      <td>Bacterial Infection</td>\n",
       "      <td>Strep Throat</td>\n",
       "      <td>Penicillin</td>\n",
       "    </tr>\n",
       "    <tr>\n",
       "      <th>...</th>\n",
       "      <td>...</td>\n",
       "      <td>...</td>\n",
       "      <td>...</td>\n",
       "      <td>...</td>\n",
       "      <td>...</td>\n",
       "      <td>...</td>\n",
       "      <td>...</td>\n",
       "    </tr>\n",
       "    <tr>\n",
       "      <th>282</th>\n",
       "      <td>Ava Lim</td>\n",
       "      <td>1993-07-11</td>\n",
       "      <td>Female</td>\n",
       "      <td>Cough, Shortness of breath</td>\n",
       "      <td>COVID-19 Exposure</td>\n",
       "      <td>COVID-19</td>\n",
       "      <td>Isolation, Fluids</td>\n",
       "    </tr>\n",
       "    <tr>\n",
       "      <th>283</th>\n",
       "      <td>Liam Goh</td>\n",
       "      <td>1987-09-16</td>\n",
       "      <td>Male</td>\n",
       "      <td>Itching, Redness</td>\n",
       "      <td>Allergies</td>\n",
       "      <td>Allergic Reaction An</td>\n",
       "      <td>tihistamine</td>\n",
       "    </tr>\n",
       "    <tr>\n",
       "      <th>284</th>\n",
       "      <td>Sophie Tan</td>\n",
       "      <td>1975-02-18</td>\n",
       "      <td>Female</td>\n",
       "      <td>Muscle Pain, Fatigue</td>\n",
       "      <td>Overexertion</td>\n",
       "      <td>Muscle Strain</td>\n",
       "      <td>Rest, Pain Relievers</td>\n",
       "    </tr>\n",
       "    <tr>\n",
       "      <th>285</th>\n",
       "      <td>Noah Lim</td>\n",
       "      <td>2005-05-21</td>\n",
       "      <td>Male</td>\n",
       "      <td>Nausea, Vomiting</td>\n",
       "      <td>Food Poisoning</td>\n",
       "      <td>Muscle Strain</td>\n",
       "      <td>Rehydration</td>\n",
       "    </tr>\n",
       "    <tr>\n",
       "      <th>286</th>\n",
       "      <td>Ella Wong</td>\n",
       "      <td>1999-10-05</td>\n",
       "      <td>Female</td>\n",
       "      <td>Headache, Blurred Vision</td>\n",
       "      <td>Eye Strain</td>\n",
       "      <td>Muscle Strain</td>\n",
       "      <td>Eye Exercises</td>\n",
       "    </tr>\n",
       "  </tbody>\n",
       "</table>\n",
       "<p>287 rows × 7 columns</p>\n",
       "</div>"
      ],
      "text/plain": [
       "            Name DateOfBirth  Gender                    Symptoms  \\\n",
       "0       John Doe  1980-05-15    Male                Fever, Cough   \n",
       "1     Jane Smith  1992-08-10  Female           Headache, Fatigue   \n",
       "2    Michael Lee  1975-02-20    Male         Shortness of breath   \n",
       "3     Emily Chen  1988-11-03  Female            Nausea, Vomiting   \n",
       "4      Alex Wong  2001-06-12    Male                 Sore Throat   \n",
       "..           ...         ...     ...                         ...   \n",
       "282      Ava Lim  1993-07-11  Female  Cough, Shortness of breath   \n",
       "283     Liam Goh  1987-09-16    Male            Itching, Redness   \n",
       "284   Sophie Tan  1975-02-18  Female        Muscle Pain, Fatigue   \n",
       "285     Noah Lim  2005-05-21    Male            Nausea, Vomiting   \n",
       "286    Ella Wong  1999-10-05  Female    Headache, Blurred Vision   \n",
       "\n",
       "                   Causes               Disease               Medicine  \n",
       "0         Viral Infection           Common Cold        Ibuprofen, Rest  \n",
       "1                  Stress              Migraine            Sumatriptan  \n",
       "2               Pollution                Asthma      Albuterol Inhaler  \n",
       "3          Food Poisoning       Gastroenteritis       Oral Rehydration  \n",
       "4     Bacterial Infection          Strep Throat             Penicillin  \n",
       "..                    ...                   ...                    ...  \n",
       "282  COVID-19 Exposure           COVID-19            Isolation, Fluids  \n",
       "283  Allergies             Allergic Reaction An            tihistamine  \n",
       "284  Overexertion               Muscle Strain     Rest, Pain Relievers  \n",
       "285      Food Poisoning         Muscle Strain              Rehydration  \n",
       "286  Eye Strain                 Muscle Strain            Eye Exercises  \n",
       "\n",
       "[287 rows x 7 columns]"
      ]
     },
     "execution_count": 15,
     "metadata": {},
     "output_type": "execute_result"
    }
   ],
   "source": [
    "pandas_df"
   ]
  },
  {
   "cell_type": "code",
   "execution_count": null,
   "metadata": {
    "application/vnd.databricks.v1+cell": {
     "cellMetadata": {
      "byteLimit": 2048000,
      "rowLimit": 10000
     },
     "inputWidgets": {},
     "nuid": "8f4f1cbb-e294-48c9-a714-e111bdc7c1dc",
     "showTitle": false,
     "title": ""
    }
   },
   "outputs": [],
   "source": [
    "# Exploratory Data Analysis"
   ]
  },
  {
   "cell_type": "code",
   "execution_count": null,
   "metadata": {
    "application/vnd.databricks.v1+cell": {
     "cellMetadata": {
      "byteLimit": 2048000,
      "rowLimit": 10000
     },
     "inputWidgets": {},
     "nuid": "4dc3ebce-baff-43d3-b4db-b693eb570caf",
     "showTitle": false,
     "title": ""
    }
   },
   "outputs": [],
   "source": [
    "import plotly.express as px"
   ]
  },
  {
   "cell_type": "code",
   "execution_count": 16,
   "metadata": {
    "application/vnd.databricks.v1+cell": {
     "cellMetadata": {
      "byteLimit": 2048000,
      "rowLimit": 10000
     },
     "inputWidgets": {},
     "nuid": "cc69bcd7-c661-41a7-86b3-c3c4410ba005",
     "showTitle": false,
     "title": ""
    }
   },
   "outputs": [],
   "source": [
    "encoder = LabelEncoder()\n",
    "\n",
    "X = pandas_df[['Disease']]\n",
    "df = X.apply(encoder.fit_transform)"
   ]
  },
  {
   "cell_type": "code",
   "execution_count": 17,
   "metadata": {
    "application/vnd.databricks.v1+cell": {
     "cellMetadata": {
      "byteLimit": 2048000,
      "rowLimit": 10000
     },
     "inputWidgets": {},
     "nuid": "a1a585d2-231a-4eaf-a935-3846bff73170",
     "showTitle": false,
     "title": ""
    }
   },
   "outputs": [
    {
     "data": {
      "text/plain": [
       "array(['Common Cold', 'Migraine', 'Asthma', 'Gastroenteritis',\n",
       "       'Strep Throat', 'Arthritis', 'Hypertension', 'Allergic Reaction',\n",
       "       'Indigestion', 'Major Depressive', 'Influenza', 'Motion Sickness',\n",
       "       'Chronic Bronchitis', 'Gastritis', 'Rheumatoid Arthritis',\n",
       "       'Tonsillitis', 'Sciatica', 'Morning Sickness', 'Iron Deficiency',\n",
       "       'Panic Disorder', 'Sleep Apnea', 'Dermatitis',\n",
       "       'Respiratory infection', 'Heat Exhaustion', 'Tension Headache',\n",
       "       'Menstrual Cramps', 'Coronary ArteryDisease', 'Thyroid Disorder',\n",
       "       'Pneumonia', 'COVID-19', 'Muscle Strain', 'Vision Fatigue',\n",
       "       'Herniated Disc', 'Chronic Fatigue Syndrome', 'Anxiety Disorder',\n",
       "       'Muscle Overuse', 's  Arthritis', 'Major Depressive Disorder',\n",
       "       'Allergic Reacti', 'Chronic Fatigue', 'Syndrome', ' Arthritis',\n",
       "       'RespiratoryInfection', 'Coronary Artery', 'is  Arthritis',\n",
       "       'Respiratory Infection', 'Coronary Artery Disease', 'Respiratory',\n",
       "       'Infection', 'Disease', 'Strep Throat     ', 'Iron Deficiency ',\n",
       "       'Panic Disorder  ', 'Sleep Apnea     ', 'Dermatitis      ',\n",
       "       'Respiratory     AntiInfection', 'Arthritis     ',\n",
       "       'Heat Exhaustion Hydr', 'Tension Headache Rel',\n",
       "       'Indigestion     Anta', 'Menstrual Cramps Pai',\n",
       "       'Coronary Artery Disease   ', '      ', 'Disease         ',\n",
       "       'Pheumonia      ', 'COVID-19      ', 'Allergic Reaction An',\n",
       "       'Muscle Strain  '], dtype=object)"
      ]
     },
     "execution_count": 17,
     "metadata": {},
     "output_type": "execute_result"
    }
   ],
   "source": [
    "X.Disease.unique()"
   ]
  },
  {
   "cell_type": "code",
   "execution_count": 18,
   "metadata": {
    "application/vnd.databricks.v1+cell": {
     "cellMetadata": {
      "byteLimit": 2048000,
      "rowLimit": 10000
     },
     "inputWidgets": {},
     "nuid": "591227ec-5099-4553-a560-a73c68ff719c",
     "showTitle": false,
     "title": ""
    }
   },
   "outputs": [
    {
     "data": {
      "text/html": [
       "<div>\n",
       "<style scoped>\n",
       "    .dataframe tbody tr th:only-of-type {\n",
       "        vertical-align: middle;\n",
       "    }\n",
       "\n",
       "    .dataframe tbody tr th {\n",
       "        vertical-align: top;\n",
       "    }\n",
       "\n",
       "    .dataframe thead th {\n",
       "        text-align: right;\n",
       "    }\n",
       "</style>\n",
       "<table border=\"1\" class=\"dataframe\">\n",
       "  <thead>\n",
       "    <tr style=\"text-align: right;\">\n",
       "      <th></th>\n",
       "      <th>Disease</th>\n",
       "    </tr>\n",
       "  </thead>\n",
       "  <tbody>\n",
       "    <tr>\n",
       "      <th>0</th>\n",
       "      <td>14</td>\n",
       "    </tr>\n",
       "    <tr>\n",
       "      <th>1</th>\n",
       "      <td>39</td>\n",
       "    </tr>\n",
       "    <tr>\n",
       "      <th>2</th>\n",
       "      <td>8</td>\n",
       "    </tr>\n",
       "    <tr>\n",
       "      <th>3</th>\n",
       "      <td>24</td>\n",
       "    </tr>\n",
       "    <tr>\n",
       "      <th>4</th>\n",
       "      <td>58</td>\n",
       "    </tr>\n",
       "    <tr>\n",
       "      <th>...</th>\n",
       "      <td>...</td>\n",
       "    </tr>\n",
       "    <tr>\n",
       "      <th>282</th>\n",
       "      <td>10</td>\n",
       "    </tr>\n",
       "    <tr>\n",
       "      <th>283</th>\n",
       "      <td>4</td>\n",
       "    </tr>\n",
       "    <tr>\n",
       "      <th>284</th>\n",
       "      <td>44</td>\n",
       "    </tr>\n",
       "    <tr>\n",
       "      <th>285</th>\n",
       "      <td>44</td>\n",
       "    </tr>\n",
       "    <tr>\n",
       "      <th>286</th>\n",
       "      <td>44</td>\n",
       "    </tr>\n",
       "  </tbody>\n",
       "</table>\n",
       "<p>287 rows × 1 columns</p>\n",
       "</div>"
      ],
      "text/plain": [
       "     Disease\n",
       "0         14\n",
       "1         39\n",
       "2          8\n",
       "3         24\n",
       "4         58\n",
       "..       ...\n",
       "282       10\n",
       "283        4\n",
       "284       44\n",
       "285       44\n",
       "286       44\n",
       "\n",
       "[287 rows x 1 columns]"
      ]
     },
     "execution_count": 18,
     "metadata": {},
     "output_type": "execute_result"
    }
   ],
   "source": [
    "df"
   ]
  },
  {
   "cell_type": "code",
   "execution_count": 19,
   "metadata": {
    "application/vnd.databricks.v1+cell": {
     "cellMetadata": {
      "byteLimit": 2048000,
      "rowLimit": 10000
     },
     "inputWidgets": {},
     "nuid": "3f9bb165-dd0c-4180-8193-18ba112c357f",
     "showTitle": false,
     "title": ""
    }
   },
   "outputs": [
    {
     "data": {
      "text/html": [
       "<div>\n",
       "<style scoped>\n",
       "    .dataframe tbody tr th:only-of-type {\n",
       "        vertical-align: middle;\n",
       "    }\n",
       "\n",
       "    .dataframe tbody tr th {\n",
       "        vertical-align: top;\n",
       "    }\n",
       "\n",
       "    .dataframe thead th {\n",
       "        text-align: right;\n",
       "    }\n",
       "</style>\n",
       "<table border=\"1\" class=\"dataframe\">\n",
       "  <thead>\n",
       "    <tr style=\"text-align: right;\">\n",
       "      <th></th>\n",
       "      <th>Name</th>\n",
       "      <th>DateOfBirth</th>\n",
       "      <th>Gender</th>\n",
       "      <th>Symptoms</th>\n",
       "      <th>Causes</th>\n",
       "      <th>Disease</th>\n",
       "      <th>Medicine</th>\n",
       "    </tr>\n",
       "  </thead>\n",
       "  <tbody>\n",
       "    <tr>\n",
       "      <th>0</th>\n",
       "      <td>John Doe</td>\n",
       "      <td>1980-05-15</td>\n",
       "      <td>Male</td>\n",
       "      <td>Fever, Cough</td>\n",
       "      <td>Viral Infection</td>\n",
       "      <td>Common Cold</td>\n",
       "      <td>Ibuprofen, Rest</td>\n",
       "    </tr>\n",
       "    <tr>\n",
       "      <th>1</th>\n",
       "      <td>Jane Smith</td>\n",
       "      <td>1992-08-10</td>\n",
       "      <td>Female</td>\n",
       "      <td>Headache, Fatigue</td>\n",
       "      <td>Stress</td>\n",
       "      <td>Migraine</td>\n",
       "      <td>Sumatriptan</td>\n",
       "    </tr>\n",
       "    <tr>\n",
       "      <th>2</th>\n",
       "      <td>Michael Lee</td>\n",
       "      <td>1975-02-20</td>\n",
       "      <td>Male</td>\n",
       "      <td>Shortness of breath</td>\n",
       "      <td>Pollution</td>\n",
       "      <td>Asthma</td>\n",
       "      <td>Albuterol Inhaler</td>\n",
       "    </tr>\n",
       "    <tr>\n",
       "      <th>3</th>\n",
       "      <td>Emily Chen</td>\n",
       "      <td>1988-11-03</td>\n",
       "      <td>Female</td>\n",
       "      <td>Nausea, Vomiting</td>\n",
       "      <td>Food Poisoning</td>\n",
       "      <td>Gastroenteritis</td>\n",
       "      <td>Oral Rehydration</td>\n",
       "    </tr>\n",
       "    <tr>\n",
       "      <th>4</th>\n",
       "      <td>Alex Wong</td>\n",
       "      <td>2001-06-12</td>\n",
       "      <td>Male</td>\n",
       "      <td>Sore Throat</td>\n",
       "      <td>Bacterial Infection</td>\n",
       "      <td>Strep Throat</td>\n",
       "      <td>Penicillin</td>\n",
       "    </tr>\n",
       "    <tr>\n",
       "      <th>...</th>\n",
       "      <td>...</td>\n",
       "      <td>...</td>\n",
       "      <td>...</td>\n",
       "      <td>...</td>\n",
       "      <td>...</td>\n",
       "      <td>...</td>\n",
       "      <td>...</td>\n",
       "    </tr>\n",
       "    <tr>\n",
       "      <th>282</th>\n",
       "      <td>Ava Lim</td>\n",
       "      <td>1993-07-11</td>\n",
       "      <td>Female</td>\n",
       "      <td>Cough, Shortness of breath</td>\n",
       "      <td>COVID-19 Exposure</td>\n",
       "      <td>COVID-19</td>\n",
       "      <td>Isolation, Fluids</td>\n",
       "    </tr>\n",
       "    <tr>\n",
       "      <th>283</th>\n",
       "      <td>Liam Goh</td>\n",
       "      <td>1987-09-16</td>\n",
       "      <td>Male</td>\n",
       "      <td>Itching, Redness</td>\n",
       "      <td>Allergies</td>\n",
       "      <td>Allergic Reaction An</td>\n",
       "      <td>tihistamine</td>\n",
       "    </tr>\n",
       "    <tr>\n",
       "      <th>284</th>\n",
       "      <td>Sophie Tan</td>\n",
       "      <td>1975-02-18</td>\n",
       "      <td>Female</td>\n",
       "      <td>Muscle Pain, Fatigue</td>\n",
       "      <td>Overexertion</td>\n",
       "      <td>Muscle Strain</td>\n",
       "      <td>Rest, Pain Relievers</td>\n",
       "    </tr>\n",
       "    <tr>\n",
       "      <th>285</th>\n",
       "      <td>Noah Lim</td>\n",
       "      <td>2005-05-21</td>\n",
       "      <td>Male</td>\n",
       "      <td>Nausea, Vomiting</td>\n",
       "      <td>Food Poisoning</td>\n",
       "      <td>Muscle Strain</td>\n",
       "      <td>Rehydration</td>\n",
       "    </tr>\n",
       "    <tr>\n",
       "      <th>286</th>\n",
       "      <td>Ella Wong</td>\n",
       "      <td>1999-10-05</td>\n",
       "      <td>Female</td>\n",
       "      <td>Headache, Blurred Vision</td>\n",
       "      <td>Eye Strain</td>\n",
       "      <td>Muscle Strain</td>\n",
       "      <td>Eye Exercises</td>\n",
       "    </tr>\n",
       "  </tbody>\n",
       "</table>\n",
       "<p>287 rows × 7 columns</p>\n",
       "</div>"
      ],
      "text/plain": [
       "            Name DateOfBirth  Gender                    Symptoms  \\\n",
       "0       John Doe  1980-05-15    Male                Fever, Cough   \n",
       "1     Jane Smith  1992-08-10  Female           Headache, Fatigue   \n",
       "2    Michael Lee  1975-02-20    Male         Shortness of breath   \n",
       "3     Emily Chen  1988-11-03  Female            Nausea, Vomiting   \n",
       "4      Alex Wong  2001-06-12    Male                 Sore Throat   \n",
       "..           ...         ...     ...                         ...   \n",
       "282      Ava Lim  1993-07-11  Female  Cough, Shortness of breath   \n",
       "283     Liam Goh  1987-09-16    Male            Itching, Redness   \n",
       "284   Sophie Tan  1975-02-18  Female        Muscle Pain, Fatigue   \n",
       "285     Noah Lim  2005-05-21    Male            Nausea, Vomiting   \n",
       "286    Ella Wong  1999-10-05  Female    Headache, Blurred Vision   \n",
       "\n",
       "                   Causes               Disease               Medicine  \n",
       "0         Viral Infection           Common Cold        Ibuprofen, Rest  \n",
       "1                  Stress              Migraine            Sumatriptan  \n",
       "2               Pollution                Asthma      Albuterol Inhaler  \n",
       "3          Food Poisoning       Gastroenteritis       Oral Rehydration  \n",
       "4     Bacterial Infection          Strep Throat             Penicillin  \n",
       "..                    ...                   ...                    ...  \n",
       "282  COVID-19 Exposure           COVID-19            Isolation, Fluids  \n",
       "283  Allergies             Allergic Reaction An            tihistamine  \n",
       "284  Overexertion               Muscle Strain     Rest, Pain Relievers  \n",
       "285      Food Poisoning         Muscle Strain              Rehydration  \n",
       "286  Eye Strain                 Muscle Strain            Eye Exercises  \n",
       "\n",
       "[287 rows x 7 columns]"
      ]
     },
     "execution_count": 19,
     "metadata": {},
     "output_type": "execute_result"
    }
   ],
   "source": [
    "pandas_df"
   ]
  },
  {
   "cell_type": "code",
   "execution_count": 20,
   "metadata": {
    "application/vnd.databricks.v1+cell": {
     "cellMetadata": {
      "byteLimit": 2048000,
      "rowLimit": 10000
     },
     "inputWidgets": {},
     "nuid": "8695afcf-9da3-404a-a1f3-5f0e074fe7a7",
     "showTitle": false,
     "title": ""
    }
   },
   "outputs": [],
   "source": [
    "X = pandas_df['Symptoms'] + ' ' + pandas_df['Causes'] + ' ' + pandas_df['Medicine'] + ' ' + pandas_df['Gender']"
   ]
  },
  {
   "cell_type": "code",
   "execution_count": 21,
   "metadata": {
    "application/vnd.databricks.v1+cell": {
     "cellMetadata": {
      "byteLimit": 2048000,
      "rowLimit": 10000
     },
     "inputWidgets": {},
     "nuid": "a70539c2-c204-418d-b799-ac89708bdae3",
     "showTitle": false,
     "title": ""
    }
   },
   "outputs": [],
   "source": [
    "y = df.Disease"
   ]
  },
  {
   "cell_type": "code",
   "execution_count": 22,
   "metadata": {
    "application/vnd.databricks.v1+cell": {
     "cellMetadata": {
      "byteLimit": 2048000,
      "rowLimit": 10000
     },
     "inputWidgets": {},
     "nuid": "a933940a-7938-49eb-869f-90c658912d3b",
     "showTitle": false,
     "title": ""
    }
   },
   "outputs": [],
   "source": [
    "X_train, X_test, y_train, y_test = train_test_split(X, y, test_size=0.2, random_state=42)"
   ]
  },
  {
   "cell_type": "code",
   "execution_count": 23,
   "metadata": {
    "application/vnd.databricks.v1+cell": {
     "cellMetadata": {
      "byteLimit": 2048000,
      "rowLimit": 10000
     },
     "inputWidgets": {},
     "nuid": "ce7868c5-1262-40ca-96a0-27ef09d55ff9",
     "showTitle": false,
     "title": ""
    }
   },
   "outputs": [],
   "source": [
    "vectorizer = CountVectorizer(stop_words=\"english\").fit(X_train)\n",
    "df_train = vectorizer.transform(X_train)\n",
    "df_train = pd.DataFrame(df_train.toarray(),\n",
    "                        columns=vectorizer.get_feature_names_out())"
   ]
  },
  {
   "cell_type": "code",
   "execution_count": 24,
   "metadata": {
    "application/vnd.databricks.v1+cell": {
     "cellMetadata": {
      "byteLimit": 2048000,
      "rowLimit": 10000
     },
     "inputWidgets": {},
     "nuid": "e1ae2da4-d520-415e-bd39-e148eaa15232",
     "showTitle": false,
     "title": ""
    }
   },
   "outputs": [
    {
     "data": {
      "text/html": [
       "<div>\n",
       "<style scoped>\n",
       "    .dataframe tbody tr th:only-of-type {\n",
       "        vertical-align: middle;\n",
       "    }\n",
       "\n",
       "    .dataframe tbody tr th {\n",
       "        vertical-align: top;\n",
       "    }\n",
       "\n",
       "    .dataframe thead th {\n",
       "        text-align: right;\n",
       "    }\n",
       "</style>\n",
       "<table border=\"1\" class=\"dataframe\">\n",
       "  <thead>\n",
       "    <tr style=\"text-align: right;\">\n",
       "      <th></th>\n",
       "      <th>19</th>\n",
       "      <th>abdominal</th>\n",
       "      <th>acetaminophen</th>\n",
       "      <th>aches</th>\n",
       "      <th>albuterol</th>\n",
       "      <th>allergies</th>\n",
       "      <th>amlodipine</th>\n",
       "      <th>anemia</th>\n",
       "      <th>antacids</th>\n",
       "      <th>antibiotics</th>\n",
       "      <th>...</th>\n",
       "      <th>tihistamine</th>\n",
       "      <th>topical</th>\n",
       "      <th>triggers</th>\n",
       "      <th>viral</th>\n",
       "      <th>virals</th>\n",
       "      <th>vision</th>\n",
       "      <th>vitamin</th>\n",
       "      <th>vomiting</th>\n",
       "      <th>weakness</th>\n",
       "      <th>weather</th>\n",
       "    </tr>\n",
       "  </thead>\n",
       "  <tbody>\n",
       "    <tr>\n",
       "      <th>0</th>\n",
       "      <td>1</td>\n",
       "      <td>0</td>\n",
       "      <td>0</td>\n",
       "      <td>0</td>\n",
       "      <td>0</td>\n",
       "      <td>0</td>\n",
       "      <td>0</td>\n",
       "      <td>0</td>\n",
       "      <td>0</td>\n",
       "      <td>0</td>\n",
       "      <td>...</td>\n",
       "      <td>0</td>\n",
       "      <td>0</td>\n",
       "      <td>0</td>\n",
       "      <td>0</td>\n",
       "      <td>0</td>\n",
       "      <td>0</td>\n",
       "      <td>0</td>\n",
       "      <td>0</td>\n",
       "      <td>0</td>\n",
       "      <td>0</td>\n",
       "    </tr>\n",
       "    <tr>\n",
       "      <th>1</th>\n",
       "      <td>0</td>\n",
       "      <td>0</td>\n",
       "      <td>0</td>\n",
       "      <td>0</td>\n",
       "      <td>0</td>\n",
       "      <td>0</td>\n",
       "      <td>0</td>\n",
       "      <td>0</td>\n",
       "      <td>0</td>\n",
       "      <td>0</td>\n",
       "      <td>...</td>\n",
       "      <td>0</td>\n",
       "      <td>0</td>\n",
       "      <td>0</td>\n",
       "      <td>1</td>\n",
       "      <td>0</td>\n",
       "      <td>0</td>\n",
       "      <td>0</td>\n",
       "      <td>0</td>\n",
       "      <td>0</td>\n",
       "      <td>0</td>\n",
       "    </tr>\n",
       "    <tr>\n",
       "      <th>2</th>\n",
       "      <td>0</td>\n",
       "      <td>0</td>\n",
       "      <td>0</td>\n",
       "      <td>0</td>\n",
       "      <td>0</td>\n",
       "      <td>0</td>\n",
       "      <td>0</td>\n",
       "      <td>0</td>\n",
       "      <td>0</td>\n",
       "      <td>0</td>\n",
       "      <td>...</td>\n",
       "      <td>0</td>\n",
       "      <td>0</td>\n",
       "      <td>0</td>\n",
       "      <td>0</td>\n",
       "      <td>0</td>\n",
       "      <td>0</td>\n",
       "      <td>0</td>\n",
       "      <td>0</td>\n",
       "      <td>0</td>\n",
       "      <td>0</td>\n",
       "    </tr>\n",
       "    <tr>\n",
       "      <th>3</th>\n",
       "      <td>0</td>\n",
       "      <td>0</td>\n",
       "      <td>0</td>\n",
       "      <td>0</td>\n",
       "      <td>0</td>\n",
       "      <td>0</td>\n",
       "      <td>0</td>\n",
       "      <td>0</td>\n",
       "      <td>0</td>\n",
       "      <td>0</td>\n",
       "      <td>...</td>\n",
       "      <td>0</td>\n",
       "      <td>0</td>\n",
       "      <td>0</td>\n",
       "      <td>0</td>\n",
       "      <td>0</td>\n",
       "      <td>0</td>\n",
       "      <td>0</td>\n",
       "      <td>0</td>\n",
       "      <td>0</td>\n",
       "      <td>0</td>\n",
       "    </tr>\n",
       "    <tr>\n",
       "      <th>4</th>\n",
       "      <td>0</td>\n",
       "      <td>0</td>\n",
       "      <td>0</td>\n",
       "      <td>0</td>\n",
       "      <td>0</td>\n",
       "      <td>0</td>\n",
       "      <td>0</td>\n",
       "      <td>0</td>\n",
       "      <td>0</td>\n",
       "      <td>0</td>\n",
       "      <td>...</td>\n",
       "      <td>0</td>\n",
       "      <td>0</td>\n",
       "      <td>0</td>\n",
       "      <td>0</td>\n",
       "      <td>0</td>\n",
       "      <td>0</td>\n",
       "      <td>0</td>\n",
       "      <td>0</td>\n",
       "      <td>0</td>\n",
       "      <td>0</td>\n",
       "    </tr>\n",
       "    <tr>\n",
       "      <th>...</th>\n",
       "      <td>...</td>\n",
       "      <td>...</td>\n",
       "      <td>...</td>\n",
       "      <td>...</td>\n",
       "      <td>...</td>\n",
       "      <td>...</td>\n",
       "      <td>...</td>\n",
       "      <td>...</td>\n",
       "      <td>...</td>\n",
       "      <td>...</td>\n",
       "      <td>...</td>\n",
       "      <td>...</td>\n",
       "      <td>...</td>\n",
       "      <td>...</td>\n",
       "      <td>...</td>\n",
       "      <td>...</td>\n",
       "      <td>...</td>\n",
       "      <td>...</td>\n",
       "      <td>...</td>\n",
       "      <td>...</td>\n",
       "      <td>...</td>\n",
       "    </tr>\n",
       "    <tr>\n",
       "      <th>224</th>\n",
       "      <td>0</td>\n",
       "      <td>0</td>\n",
       "      <td>0</td>\n",
       "      <td>0</td>\n",
       "      <td>0</td>\n",
       "      <td>0</td>\n",
       "      <td>0</td>\n",
       "      <td>0</td>\n",
       "      <td>0</td>\n",
       "      <td>0</td>\n",
       "      <td>...</td>\n",
       "      <td>0</td>\n",
       "      <td>0</td>\n",
       "      <td>0</td>\n",
       "      <td>0</td>\n",
       "      <td>0</td>\n",
       "      <td>0</td>\n",
       "      <td>0</td>\n",
       "      <td>0</td>\n",
       "      <td>0</td>\n",
       "      <td>0</td>\n",
       "    </tr>\n",
       "    <tr>\n",
       "      <th>225</th>\n",
       "      <td>0</td>\n",
       "      <td>0</td>\n",
       "      <td>0</td>\n",
       "      <td>0</td>\n",
       "      <td>0</td>\n",
       "      <td>1</td>\n",
       "      <td>0</td>\n",
       "      <td>0</td>\n",
       "      <td>0</td>\n",
       "      <td>0</td>\n",
       "      <td>...</td>\n",
       "      <td>0</td>\n",
       "      <td>0</td>\n",
       "      <td>0</td>\n",
       "      <td>0</td>\n",
       "      <td>0</td>\n",
       "      <td>0</td>\n",
       "      <td>0</td>\n",
       "      <td>0</td>\n",
       "      <td>0</td>\n",
       "      <td>0</td>\n",
       "    </tr>\n",
       "    <tr>\n",
       "      <th>226</th>\n",
       "      <td>0</td>\n",
       "      <td>0</td>\n",
       "      <td>0</td>\n",
       "      <td>0</td>\n",
       "      <td>0</td>\n",
       "      <td>0</td>\n",
       "      <td>0</td>\n",
       "      <td>1</td>\n",
       "      <td>0</td>\n",
       "      <td>0</td>\n",
       "      <td>...</td>\n",
       "      <td>0</td>\n",
       "      <td>0</td>\n",
       "      <td>0</td>\n",
       "      <td>0</td>\n",
       "      <td>0</td>\n",
       "      <td>0</td>\n",
       "      <td>0</td>\n",
       "      <td>0</td>\n",
       "      <td>1</td>\n",
       "      <td>0</td>\n",
       "    </tr>\n",
       "    <tr>\n",
       "      <th>227</th>\n",
       "      <td>0</td>\n",
       "      <td>0</td>\n",
       "      <td>0</td>\n",
       "      <td>0</td>\n",
       "      <td>0</td>\n",
       "      <td>0</td>\n",
       "      <td>0</td>\n",
       "      <td>0</td>\n",
       "      <td>0</td>\n",
       "      <td>0</td>\n",
       "      <td>...</td>\n",
       "      <td>0</td>\n",
       "      <td>0</td>\n",
       "      <td>0</td>\n",
       "      <td>1</td>\n",
       "      <td>1</td>\n",
       "      <td>0</td>\n",
       "      <td>0</td>\n",
       "      <td>0</td>\n",
       "      <td>0</td>\n",
       "      <td>0</td>\n",
       "    </tr>\n",
       "    <tr>\n",
       "      <th>228</th>\n",
       "      <td>0</td>\n",
       "      <td>0</td>\n",
       "      <td>0</td>\n",
       "      <td>0</td>\n",
       "      <td>0</td>\n",
       "      <td>0</td>\n",
       "      <td>0</td>\n",
       "      <td>0</td>\n",
       "      <td>0</td>\n",
       "      <td>0</td>\n",
       "      <td>...</td>\n",
       "      <td>0</td>\n",
       "      <td>0</td>\n",
       "      <td>0</td>\n",
       "      <td>0</td>\n",
       "      <td>0</td>\n",
       "      <td>0</td>\n",
       "      <td>0</td>\n",
       "      <td>0</td>\n",
       "      <td>0</td>\n",
       "      <td>0</td>\n",
       "    </tr>\n",
       "  </tbody>\n",
       "</table>\n",
       "<p>229 rows × 154 columns</p>\n",
       "</div>"
      ],
      "text/plain": [
       "     19  abdominal  acetaminophen  aches  albuterol  allergies  amlodipine  \\\n",
       "0     1          0              0      0          0          0           0   \n",
       "1     0          0              0      0          0          0           0   \n",
       "2     0          0              0      0          0          0           0   \n",
       "3     0          0              0      0          0          0           0   \n",
       "4     0          0              0      0          0          0           0   \n",
       "..   ..        ...            ...    ...        ...        ...         ...   \n",
       "224   0          0              0      0          0          0           0   \n",
       "225   0          0              0      0          0          1           0   \n",
       "226   0          0              0      0          0          0           0   \n",
       "227   0          0              0      0          0          0           0   \n",
       "228   0          0              0      0          0          0           0   \n",
       "\n",
       "     anemia  antacids  antibiotics  ...  tihistamine  topical  triggers  \\\n",
       "0         0         0            0  ...            0        0         0   \n",
       "1         0         0            0  ...            0        0         0   \n",
       "2         0         0            0  ...            0        0         0   \n",
       "3         0         0            0  ...            0        0         0   \n",
       "4         0         0            0  ...            0        0         0   \n",
       "..      ...       ...          ...  ...          ...      ...       ...   \n",
       "224       0         0            0  ...            0        0         0   \n",
       "225       0         0            0  ...            0        0         0   \n",
       "226       1         0            0  ...            0        0         0   \n",
       "227       0         0            0  ...            0        0         0   \n",
       "228       0         0            0  ...            0        0         0   \n",
       "\n",
       "     viral  virals  vision  vitamin  vomiting  weakness  weather  \n",
       "0        0       0       0        0         0         0        0  \n",
       "1        1       0       0        0         0         0        0  \n",
       "2        0       0       0        0         0         0        0  \n",
       "3        0       0       0        0         0         0        0  \n",
       "4        0       0       0        0         0         0        0  \n",
       "..     ...     ...     ...      ...       ...       ...      ...  \n",
       "224      0       0       0        0         0         0        0  \n",
       "225      0       0       0        0         0         0        0  \n",
       "226      0       0       0        0         0         1        0  \n",
       "227      1       1       0        0         0         0        0  \n",
       "228      0       0       0        0         0         0        0  \n",
       "\n",
       "[229 rows x 154 columns]"
      ]
     },
     "execution_count": 24,
     "metadata": {},
     "output_type": "execute_result"
    }
   ],
   "source": [
    "df_train"
   ]
  },
  {
   "cell_type": "code",
   "execution_count": 25,
   "metadata": {
    "application/vnd.databricks.v1+cell": {
     "cellMetadata": {
      "byteLimit": 2048000,
      "rowLimit": 10000
     },
     "inputWidgets": {},
     "nuid": "8d0a18a9-60b3-4c78-b903-48511fee1e01",
     "showTitle": false,
     "title": ""
    }
   },
   "outputs": [],
   "source": [
    "df_test = vectorizer.transform(X_test)\n",
    "df_test = pd.DataFrame(df_test.toarray(),\n",
    "                        columns=vectorizer.get_feature_names_out())"
   ]
  },
  {
   "cell_type": "code",
   "execution_count": 26,
   "metadata": {
    "application/vnd.databricks.v1+cell": {
     "cellMetadata": {
      "byteLimit": 2048000,
      "rowLimit": 10000
     },
     "inputWidgets": {},
     "nuid": "89e22558-a103-4d1b-8a33-65f402bfed59",
     "showTitle": false,
     "title": ""
    }
   },
   "outputs": [],
   "source": [
    "tfidf = TfidfTransformer()\n",
    "df_train_idf = tfidf.fit(df_train)\n",
    "df_train_tfidf = df_train_idf.transform(df_train)\n",
    "df_test_idf = tfidf.fit(df_test)\n",
    "df_test_tfidf = df_test_idf.transform(df_test)"
   ]
  },
  {
   "cell_type": "code",
   "execution_count": 27,
   "metadata": {
    "application/vnd.databricks.v1+cell": {
     "cellMetadata": {
      "byteLimit": 2048000,
      "rowLimit": 10000
     },
     "inputWidgets": {},
     "nuid": "712f54d7-b746-47c3-938c-f4a62e87bfa5",
     "showTitle": false,
     "title": ""
    }
   },
   "outputs": [],
   "source": [
    "clf = LogisticRegression().fit(df_train_tfidf, y_train)"
   ]
  },
  {
   "cell_type": "code",
   "execution_count": 28,
   "metadata": {
    "application/vnd.databricks.v1+cell": {
     "cellMetadata": {
      "byteLimit": 2048000,
      "rowLimit": 10000
     },
     "inputWidgets": {},
     "nuid": "b58cabd2-ce54-416b-b7b6-9faae93b841e",
     "showTitle": false,
     "title": ""
    }
   },
   "outputs": [
    {
     "data": {
      "text/plain": [
       "0.8275862068965517"
      ]
     },
     "execution_count": 28,
     "metadata": {},
     "output_type": "execute_result"
    }
   ],
   "source": [
    "lr_model = LogisticRegression()\n",
    "lr_model.fit(df_train_tfidf, y_train)\n",
    "lr_pred = lr_model.predict(df_test_tfidf)\n",
    "lr_model.score(df_test_tfidf, y_test)"
   ]
  },
  {
   "cell_type": "code",
   "execution_count": 29,
   "metadata": {
    "application/vnd.databricks.v1+cell": {
     "cellMetadata": {
      "byteLimit": 2048000,
      "rowLimit": 10000
     },
     "inputWidgets": {},
     "nuid": "2f518567-7cd1-434c-aa0b-4b8e1ddb7b1a",
     "showTitle": false,
     "title": ""
    }
   },
   "outputs": [
    {
     "data": {
      "text/plain": [
       "0.8793103448275862"
      ]
     },
     "execution_count": 29,
     "metadata": {},
     "output_type": "execute_result"
    }
   ],
   "source": [
    "rf_model = RandomForestClassifier()\n",
    "rf_model.fit(df_train_tfidf, y_train)\n",
    "rf_pred = rf_model.predict(df_test_tfidf)\n",
    "rf_model.score(df_test_tfidf, y_test)"
   ]
  },
  {
   "cell_type": "code",
   "execution_count": 30,
   "metadata": {
    "application/vnd.databricks.v1+cell": {
     "cellMetadata": {
      "byteLimit": 2048000,
      "rowLimit": 10000
     },
     "inputWidgets": {},
     "nuid": "fce9ce29-a7b6-446c-b46d-548dc23e998e",
     "showTitle": false,
     "title": ""
    }
   },
   "outputs": [
    {
     "data": {
      "text/plain": [
       "0.8103448275862069"
      ]
     },
     "execution_count": 30,
     "metadata": {},
     "output_type": "execute_result"
    }
   ],
   "source": [
    "knn_model = KNeighborsClassifier()\n",
    "knn_model.fit(df_train_tfidf, y_train)\n",
    "knn_pred = knn_model.predict(df_test_tfidf)\n",
    "knn_model.score(df_test_tfidf, y_test)"
   ]
  },
  {
   "cell_type": "code",
   "execution_count": 31,
   "metadata": {
    "application/vnd.databricks.v1+cell": {
     "cellMetadata": {
      "byteLimit": 2048000,
      "rowLimit": 10000
     },
     "inputWidgets": {},
     "nuid": "9c734c22-9c52-4d71-b7bf-0a40f5489cfe",
     "showTitle": false,
     "title": ""
    }
   },
   "outputs": [
    {
     "data": {
      "text/plain": [
       "0.27586206896551724"
      ]
     },
     "execution_count": 31,
     "metadata": {},
     "output_type": "execute_result"
    }
   ],
   "source": [
    "svc_model = SVC(kernel='linear', C=0.025)\n",
    "svc_model.fit(df_train_tfidf, y_train)\n",
    "svc_pred = svc_model.predict(df_test_tfidf)\n",
    "svc_model.score(df_test_tfidf, y_test)"
   ]
  },
  {
   "cell_type": "code",
   "execution_count": 32,
   "metadata": {
    "application/vnd.databricks.v1+cell": {
     "cellMetadata": {
      "byteLimit": 2048000,
      "rowLimit": 10000
     },
     "inputWidgets": {},
     "nuid": "b1c61c45-02f7-46bd-beca-0e677d924478",
     "showTitle": false,
     "title": ""
    }
   },
   "outputs": [
    {
     "data": {
      "text/plain": [
       "0.39655172413793105"
      ]
     },
     "execution_count": 32,
     "metadata": {},
     "output_type": "execute_result"
    }
   ],
   "source": [
    "dt_model = DecisionTreeClassifier(max_depth=5)\n",
    "dt_model.fit(df_train_tfidf, y_train)\n",
    "dt_pred = dt_model.predict(df_test_tfidf)\n",
    "dt_model.score(df_test_tfidf, y_test)"
   ]
  },
  {
   "cell_type": "code",
   "execution_count": 33,
   "metadata": {
    "application/vnd.databricks.v1+cell": {
     "cellMetadata": {
      "byteLimit": 2048000,
      "rowLimit": 10000
     },
     "inputWidgets": {},
     "nuid": "f4198beb-a9d4-4e7c-a8a4-e92d3e485fc0",
     "showTitle": false,
     "title": ""
    }
   },
   "outputs": [],
   "source": [
    "clf = RandomForestClassifier().fit(df_train_tfidf, y_train)"
   ]
  },
  {
   "cell_type": "code",
   "execution_count": 34,
   "metadata": {
    "application/vnd.databricks.v1+cell": {
     "cellMetadata": {
      "byteLimit": 2048000,
      "rowLimit": 10000
     },
     "inputWidgets": {},
     "nuid": "c02d7d6d-71ff-4dac-bbcf-62b6b9077e14",
     "showTitle": false,
     "title": ""
    }
   },
   "outputs": [
    {
     "data": {
      "text/plain": [
       "['rf_model_dis_vector.joblib']"
      ]
     },
     "execution_count": 34,
     "metadata": {},
     "output_type": "execute_result"
    }
   ],
   "source": [
    "# Download best model, RandomForest Algorithm\n",
    "joblib.dump(clf,'rf_model_dis_vector.joblib')"
   ]
  },
  {
   "cell_type": "code",
   "execution_count": 35,
   "metadata": {
    "application/vnd.databricks.v1+cell": {
     "cellMetadata": {
      "byteLimit": 2048000,
      "rowLimit": 10000
     },
     "inputWidgets": {},
     "nuid": "f4a8f90c-4740-4411-a640-bbecadfe4acd",
     "showTitle": false,
     "title": ""
    }
   },
   "outputs": [
    {
     "data": {
      "text/plain": [
       "['vectorizer.joblib']"
      ]
     },
     "execution_count": 35,
     "metadata": {},
     "output_type": "execute_result"
    }
   ],
   "source": [
    "joblib.dump(vectorizer,'vectorizer.joblib')"
   ]
  },
  {
   "cell_type": "code",
   "execution_count": null,
   "metadata": {
    "application/vnd.databricks.v1+cell": {
     "cellMetadata": {
      "byteLimit": 2048000,
      "rowLimit": 10000
     },
     "inputWidgets": {},
     "nuid": "bfd0dd78-caee-4109-b43d-b2cf98503f13",
     "showTitle": false,
     "title": ""
    }
   },
   "outputs": [],
   "source": [
    "# Data Visualizations\n",
    "from yellowbrick.datasets import load_credit\n",
    "from yellowbrick.features import Rank2D\n",
    "from yellowbrick.model_selection import ValidationCurve\n",
    "from yellowbrick.model_selection import FeatureImportances\n",
    "from yellowbrick.text import FreqDistVisualizer\n",
    "from yellowbrick.text import TSNEVisualizer"
   ]
  },
  {
   "cell_type": "code",
   "execution_count": null,
   "metadata": {
    "application/vnd.databricks.v1+cell": {
     "cellMetadata": {
      "byteLimit": 2048000,
      "rowLimit": 10000
     },
     "inputWidgets": {},
     "nuid": "3ab8abdb-c905-4d2b-b2c8-8be769b02169",
     "showTitle": false,
     "title": ""
    }
   },
   "outputs": [
    {
     "name": "stdout",
     "output_type": "stream",
     "text": [
      "Collecting yellowbrick\r\n",
      "  Downloading yellowbrick-1.5-py3-none-any.whl (282 kB)\r\n",
      "\u001b[?25l\r\u001b[K     |█▏                              | 10 kB 15.1 MB/s eta 0:00:01\r\u001b[K     |██▎                             | 20 kB 5.9 MB/s eta 0:00:01\r\u001b[K     |███▌                            | 30 kB 7.2 MB/s eta 0:00:01\r\u001b[K     |████▋                           | 40 kB 6.1 MB/s eta 0:00:01\r\u001b[K     |█████▉                          | 51 kB 5.3 MB/s eta 0:00:01\r\u001b[K     |███████                         | 61 kB 6.2 MB/s eta 0:00:01\r\u001b[K     |████████▏                       | 71 kB 6.7 MB/s eta 0:00:01\r\u001b[K     |█████████▎                      | 81 kB 5.3 MB/s eta 0:00:01\r\u001b[K     |██████████▍                     | 92 kB 5.9 MB/s eta 0:00:01\r\u001b[K     |███████████▋                    | 102 kB 5.9 MB/s eta 0:00:01\r\u001b[K     |████████████▊                   | 112 kB 5.9 MB/s eta 0:00:01\r\u001b[K     |██████████████                  | 122 kB 5.9 MB/s eta 0:00:01\r\u001b[K     |███████████████                 | 133 kB 5.9 MB/s eta 0:00:01\r\u001b[K     |████████████████▎               | 143 kB 5.9 MB/s eta 0:00:01\r\u001b[K     |█████████████████▍              | 153 kB 5.9 MB/s eta 0:00:01\r\u001b[K     |██████████████████▌             | 163 kB 5.9 MB/s eta 0:00:01\r\u001b[K     |███████████████████▊            | 174 kB 5.9 MB/s eta 0:00:01\r\u001b[K     |████████████████████▉           | 184 kB 5.9 MB/s eta 0:00:01\r\u001b[K     |██████████████████████          | 194 kB 5.9 MB/s eta 0:00:01\r\u001b[K     |███████████████████████▏        | 204 kB 5.9 MB/s eta 0:00:01\r\u001b[K     |████████████████████████▍       | 215 kB 5.9 MB/s eta 0:00:01\r\u001b[K     |█████████████████████████▌      | 225 kB 5.9 MB/s eta 0:00:01\r\u001b[K     |██████████████████████████▊     | 235 kB 5.9 MB/s eta 0:00:01\r\u001b[K     |███████████████████████████▉    | 245 kB 5.9 MB/s eta 0:00:01\r\u001b[K     |█████████████████████████████   | 256 kB 5.9 MB/s eta 0:00:01\r\u001b[K     |██████████████████████████████▏ | 266 kB 5.9 MB/s eta 0:00:01\r\u001b[K     |███████████████████████████████▎| 276 kB 5.9 MB/s eta 0:00:01\r\u001b[K     |████████████████████████████████| 282 kB 5.9 MB/s \r\n",
      "\u001b[?25hRequirement already satisfied: scipy>=1.0.0 in /databricks/python3/lib/python3.9/site-packages (from yellowbrick) (1.7.3)\r\n",
      "Requirement already satisfied: matplotlib!=3.0.0,>=2.0.2 in /databricks/python3/lib/python3.9/site-packages (from yellowbrick) (3.5.1)\r\n",
      "Requirement already satisfied: numpy>=1.16.0 in /databricks/python3/lib/python3.9/site-packages (from yellowbrick) (1.21.5)\r\n",
      "Requirement already satisfied: scikit-learn>=1.0.0 in /databricks/python3/lib/python3.9/site-packages (from yellowbrick) (1.0.2)\r\n",
      "Requirement already satisfied: cycler>=0.10.0 in /databricks/python3/lib/python3.9/site-packages (from yellowbrick) (0.11.0)\r\n",
      "Requirement already satisfied: packaging>=20.0 in /databricks/python3/lib/python3.9/site-packages (from matplotlib!=3.0.0,>=2.0.2->yellowbrick) (21.3)\r\n",
      "Requirement already satisfied: python-dateutil>=2.7 in /databricks/python3/lib/python3.9/site-packages (from matplotlib!=3.0.0,>=2.0.2->yellowbrick) (2.8.2)\r\n",
      "Requirement already satisfied: fonttools>=4.22.0 in /databricks/python3/lib/python3.9/site-packages (from matplotlib!=3.0.0,>=2.0.2->yellowbrick) (4.25.0)\r\n",
      "Requirement already satisfied: kiwisolver>=1.0.1 in /databricks/python3/lib/python3.9/site-packages (from matplotlib!=3.0.0,>=2.0.2->yellowbrick) (1.3.2)\r\n",
      "Requirement already satisfied: pyparsing>=2.2.1 in /databricks/python3/lib/python3.9/site-packages (from matplotlib!=3.0.0,>=2.0.2->yellowbrick) (3.0.4)\r\n",
      "Requirement already satisfied: pillow>=6.2.0 in /databricks/python3/lib/python3.9/site-packages (from matplotlib!=3.0.0,>=2.0.2->yellowbrick) (9.0.1)\r\n",
      "Requirement already satisfied: six>=1.5 in /databricks/python3/lib/python3.9/site-packages (from python-dateutil>=2.7->matplotlib!=3.0.0,>=2.0.2->yellowbrick) (1.16.0)\r\n",
      "Requirement already satisfied: threadpoolctl>=2.0.0 in /databricks/python3/lib/python3.9/site-packages (from scikit-learn>=1.0.0->yellowbrick) (2.2.0)\r\n",
      "Requirement already satisfied: joblib>=0.11 in /databricks/python3/lib/python3.9/site-packages (from scikit-learn>=1.0.0->yellowbrick) (1.1.1)\r\n",
      "Installing collected packages: yellowbrick\r\n",
      "Successfully installed yellowbrick-1.5\r\n",
      "\u001b[33mWARNING: You are using pip version 21.2.4; however, version 24.0 is available.\r\n",
      "You should consider upgrading via the '/local_disk0/.ephemeral_nfs/envs/pythonEnv-91d4fd28-28e4-490d-b1f6-9addc32ea8c8/bin/python -m pip install --upgrade pip' command.\u001b[0m\r\n"
     ]
    }
   ],
   "source": [
    "!pip install yellowbrick"
   ]
  },
  {
   "cell_type": "code",
   "execution_count": 36,
   "metadata": {
    "application/vnd.databricks.v1+cell": {
     "cellMetadata": {
      "byteLimit": 2048000,
      "rowLimit": 10000
     },
     "inputWidgets": {},
     "nuid": "45361d98-b739-417d-b62b-14d5992641af",
     "showTitle": false,
     "title": ""
    }
   },
   "outputs": [],
   "source": [
    "tokens_causes = pandas_df.Causes"
   ]
  },
  {
   "cell_type": "code",
   "execution_count": null,
   "metadata": {
    "application/vnd.databricks.v1+cell": {
     "cellMetadata": {
      "byteLimit": 2048000,
      "rowLimit": 10000
     },
     "inputWidgets": {},
     "nuid": "54eba37f-8dfe-45b6-80e0-ace9e37357ff",
     "showTitle": false,
     "title": ""
    }
   },
   "outputs": [
    {
     "data": {
      "image/png": "[encoded data removed]"
     },
     "metadata": {
      "application/vnd.databricks.v1+output": {
       "addedWidgets": {},
       "arguments": {},
       "data": "data:image/png;base64,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\n",
       "datasetInfos": [],
       "metadata": {},
       "removedWidgets": [],
       "type": "image"
      }
     },
     "output_type": "display_data"
    },
    {
     "name": "stdout",
     "output_type": "stream",
     "text": [
      "Out[228]: <AxesSubplot:title={'center':'Frequency Distribution of Top 50 tokens'}>"
     ]
    }
   ],
   "source": [
    "# Data Visualizations\n",
    "docs = vectorizer.fit_transform(tokens_causes)\n",
    "features = vectorizer.get_feature_names_out()\n",
    "\n",
    "visualizer = FreqDistVisualizer(features=features, orient='v')\n",
    "visualizer.fit(docs)\n",
    "visualizer.show()"
   ]
  }
 ],
 "metadata": {
  "application/vnd.databricks.v1+notebook": {
   "dashboards": [],
   "language": "python",
   "notebookMetadata": {
    "pythonIndentUnit": 4
   },
   "notebookName": "Precision Health (AI Healthcare Automation)",
   "widgets": {}
  },
  "kernelspec": {
   "display_name": "Python 3",
   "language": "python",
   "name": "python3"
  },
  "language_info": {
   "codemirror_mode": {
    "name": "ipython",
    "version": 3
   },
   "file_extension": ".py",
   "mimetype": "text/x-python",
   "name": "python",
   "nbconvert_exporter": "python",
   "pygments_lexer": "ipython3",
   "version": "3.12.1"
  }
 },
 "nbformat": 4,
 "nbformat_minor": 0
}
