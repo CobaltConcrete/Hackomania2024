{
 "cells": [
  {
   "cell_type": "code",
   "execution_count": 33,
   "metadata": {
    "application/vnd.databricks.v1+cell": {
     "cellMetadata": {
      "byteLimit": 2048000,
      "rowLimit": 10000
     },
     "inputWidgets": {},
     "nuid": "455b092c-a849-4f7b-8603-257c09b21d47",
     "showTitle": false,
     "title": ""
    }
   },
   "outputs": [],
   "source": [
    "import pandas as pd\n",
    "import numpy as np\n",
    "\n",
    "from sklearn.preprocessing import LabelEncoder\n",
    "from sklearn.feature_extraction.text import TfidfVectorizer\n",
    "from sklearn.metrics.pairwise import cosine_similarity\n",
    "import scipy.sparse\n",
    "\n",
    "from sklearn.model_selection import train_test_split\n",
    "from sklearn.metrics import accuracy_score\n",
    "from sklearn.ensemble import RandomForestClassifier\n",
    "from sklearn.tree import DecisionTreeClassifier\n",
    "from sklearn.svm import SVC\n",
    "from sklearn.naive_bayes import GaussianNB\n",
    "from sklearn.neighbors import KNeighborsClassifier\n",
    "from sklearn.pipeline import make_pipeline"
   ]
  },
  {
   "cell_type": "code",
   "execution_count": 3,
   "metadata": {
    "application/vnd.databricks.v1+cell": {
     "cellMetadata": {
      "byteLimit": 2048000,
      "rowLimit": 10000
     },
     "inputWidgets": {},
     "nuid": "a2b213a1-1af1-4605-9cf5-20715dc6c597",
     "showTitle": false,
     "title": ""
    }
   },
   "outputs": [],
   "source": [
    "# AI Personalized Medicine System\n",
    "# df1 = pd.read_csv(\"/dbfs/FileStore/tables/medical_data-1.csv\")\n",
    "df = pd.read_csv('medical_data.csv')"
   ]
  },
  {
   "cell_type": "code",
   "execution_count": 4,
   "metadata": {
    "application/vnd.databricks.v1+cell": {
     "cellMetadata": {
      "byteLimit": 2048000,
      "rowLimit": 10000
     },
     "inputWidgets": {},
     "nuid": "65a7a8a9-5fa8-426c-9472-61c8ec902f70",
     "showTitle": false,
     "title": ""
    }
   },
   "outputs": [
    {
     "data": {
      "text/html": [
       "<div>\n",
       "<style scoped>\n",
       "    .dataframe tbody tr th:only-of-type {\n",
       "        vertical-align: middle;\n",
       "    }\n",
       "\n",
       "    .dataframe tbody tr th {\n",
       "        vertical-align: top;\n",
       "    }\n",
       "\n",
       "    .dataframe thead th {\n",
       "        text-align: right;\n",
       "    }\n",
       "</style>\n",
       "<table border=\"1\" class=\"dataframe\">\n",
       "  <thead>\n",
       "    <tr style=\"text-align: right;\">\n",
       "      <th></th>\n",
       "      <th>Name</th>\n",
       "      <th>DateOfBirth</th>\n",
       "      <th>Gender</th>\n",
       "      <th>Symptoms</th>\n",
       "      <th>Causes</th>\n",
       "      <th>Disease</th>\n",
       "      <th>Medicine</th>\n",
       "    </tr>\n",
       "  </thead>\n",
       "  <tbody>\n",
       "    <tr>\n",
       "      <th>0</th>\n",
       "      <td>John Doe</td>\n",
       "      <td>15-05-1980</td>\n",
       "      <td>Male</td>\n",
       "      <td>Fever, Cough</td>\n",
       "      <td>Viral Infection</td>\n",
       "      <td>Common Cold</td>\n",
       "      <td>Ibuprofen, Rest</td>\n",
       "    </tr>\n",
       "    <tr>\n",
       "      <th>1</th>\n",
       "      <td>Jane Smith</td>\n",
       "      <td>10-08-1992</td>\n",
       "      <td>Female</td>\n",
       "      <td>Headache, Fatigue</td>\n",
       "      <td>Stress</td>\n",
       "      <td>Migraine</td>\n",
       "      <td>Sumatriptan</td>\n",
       "    </tr>\n",
       "    <tr>\n",
       "      <th>2</th>\n",
       "      <td>Michael Lee</td>\n",
       "      <td>20-02-1975</td>\n",
       "      <td>Male</td>\n",
       "      <td>Shortness of breath</td>\n",
       "      <td>Pollution</td>\n",
       "      <td>Asthma</td>\n",
       "      <td>Albuterol Inhaler</td>\n",
       "    </tr>\n",
       "    <tr>\n",
       "      <th>3</th>\n",
       "      <td>Emily Chen</td>\n",
       "      <td>03-11-1988</td>\n",
       "      <td>Female</td>\n",
       "      <td>Nausea, Vomiting</td>\n",
       "      <td>Food Poisoning</td>\n",
       "      <td>Gastroenteritis</td>\n",
       "      <td>Oral Rehydration</td>\n",
       "    </tr>\n",
       "    <tr>\n",
       "      <th>4</th>\n",
       "      <td>Alex Wong</td>\n",
       "      <td>12-06-2001</td>\n",
       "      <td>Male</td>\n",
       "      <td>Sore Throat</td>\n",
       "      <td>Bacterial Infection</td>\n",
       "      <td>Strep Throat</td>\n",
       "      <td>Penicillin</td>\n",
       "    </tr>\n",
       "    <tr>\n",
       "      <th>...</th>\n",
       "      <td>...</td>\n",
       "      <td>...</td>\n",
       "      <td>...</td>\n",
       "      <td>...</td>\n",
       "      <td>...</td>\n",
       "      <td>...</td>\n",
       "      <td>...</td>\n",
       "    </tr>\n",
       "    <tr>\n",
       "      <th>282</th>\n",
       "      <td>Ava Lim</td>\n",
       "      <td>11-07-1993</td>\n",
       "      <td>Female</td>\n",
       "      <td>Cough, Shortness of breath</td>\n",
       "      <td>COVID-19 Exposure</td>\n",
       "      <td>COVID-19</td>\n",
       "      <td>Isolation, Fluids</td>\n",
       "    </tr>\n",
       "    <tr>\n",
       "      <th>283</th>\n",
       "      <td>Liam Goh</td>\n",
       "      <td>16-09-1987</td>\n",
       "      <td>Male</td>\n",
       "      <td>Itching, Redness</td>\n",
       "      <td>Allergies</td>\n",
       "      <td>Allergic Reaction An</td>\n",
       "      <td>tihistamine</td>\n",
       "    </tr>\n",
       "    <tr>\n",
       "      <th>284</th>\n",
       "      <td>Sophie Tan</td>\n",
       "      <td>18-02-1975</td>\n",
       "      <td>Female</td>\n",
       "      <td>Muscle Pain, Fatigue</td>\n",
       "      <td>Overexertion</td>\n",
       "      <td>Muscle Strain</td>\n",
       "      <td>Rest, Pain Relievers</td>\n",
       "    </tr>\n",
       "    <tr>\n",
       "      <th>285</th>\n",
       "      <td>Noah Lim</td>\n",
       "      <td>21-05-2005</td>\n",
       "      <td>Male</td>\n",
       "      <td>Nausea, Vomiting</td>\n",
       "      <td>Food Poisoning</td>\n",
       "      <td>Muscle Strain</td>\n",
       "      <td>Rehydration</td>\n",
       "    </tr>\n",
       "    <tr>\n",
       "      <th>286</th>\n",
       "      <td>Ella Wong</td>\n",
       "      <td>05-10-1999</td>\n",
       "      <td>Female</td>\n",
       "      <td>Headache, Blurred Vision</td>\n",
       "      <td>Eye Strain</td>\n",
       "      <td>Muscle Strain</td>\n",
       "      <td>Eye Exercises</td>\n",
       "    </tr>\n",
       "  </tbody>\n",
       "</table>\n",
       "<p>287 rows × 7 columns</p>\n",
       "</div>"
      ],
      "text/plain": [
       "            Name DateOfBirth  Gender                    Symptoms  \\\n",
       "0       John Doe  15-05-1980    Male                Fever, Cough   \n",
       "1     Jane Smith  10-08-1992  Female           Headache, Fatigue   \n",
       "2    Michael Lee  20-02-1975    Male         Shortness of breath   \n",
       "3     Emily Chen  03-11-1988  Female            Nausea, Vomiting   \n",
       "4      Alex Wong  12-06-2001    Male                 Sore Throat   \n",
       "..           ...         ...     ...                         ...   \n",
       "282      Ava Lim  11-07-1993  Female  Cough, Shortness of breath   \n",
       "283     Liam Goh  16-09-1987    Male            Itching, Redness   \n",
       "284   Sophie Tan  18-02-1975  Female        Muscle Pain, Fatigue   \n",
       "285     Noah Lim  21-05-2005    Male            Nausea, Vomiting   \n",
       "286    Ella Wong  05-10-1999  Female    Headache, Blurred Vision   \n",
       "\n",
       "                   Causes               Disease               Medicine  \n",
       "0         Viral Infection           Common Cold        Ibuprofen, Rest  \n",
       "1                  Stress              Migraine            Sumatriptan  \n",
       "2               Pollution                Asthma      Albuterol Inhaler  \n",
       "3          Food Poisoning       Gastroenteritis       Oral Rehydration  \n",
       "4     Bacterial Infection          Strep Throat             Penicillin  \n",
       "..                    ...                   ...                    ...  \n",
       "282  COVID-19 Exposure           COVID-19            Isolation, Fluids  \n",
       "283  Allergies             Allergic Reaction An            tihistamine  \n",
       "284  Overexertion               Muscle Strain     Rest, Pain Relievers  \n",
       "285      Food Poisoning         Muscle Strain              Rehydration  \n",
       "286  Eye Strain                 Muscle Strain            Eye Exercises  \n",
       "\n",
       "[287 rows x 7 columns]"
      ]
     },
     "execution_count": 4,
     "metadata": {},
     "output_type": "execute_result"
    }
   ],
   "source": [
    "df"
   ]
  },
  {
   "cell_type": "code",
   "execution_count": 5,
   "metadata": {
    "application/vnd.databricks.v1+cell": {
     "cellMetadata": {
      "byteLimit": 2048000,
      "rowLimit": 10000
     },
     "inputWidgets": {},
     "nuid": "4c6b6361-163a-4e63-8f59-24b0b3085426",
     "showTitle": false,
     "title": ""
    }
   },
   "outputs": [
    {
     "name": "stderr",
     "output_type": "stream",
     "text": [
      "C:\\Users\\Gan Qing Rong\\AppData\\Local\\Temp\\ipykernel_18356\\2754983585.py:1: UserWarning: Parsing dates in DD/MM/YYYY format when dayfirst=False (the default) was specified. This may lead to inconsistently parsed dates! Specify a format to ensure consistent parsing.\n",
      "  df['DateOfBirth'] = pd.to_datetime(df['DateOfBirth'])\n"
     ]
    }
   ],
   "source": [
    "df['DateOfBirth'] = pd.to_datetime(df['DateOfBirth'])"
   ]
  },
  {
   "cell_type": "code",
   "execution_count": 6,
   "metadata": {
    "application/vnd.databricks.v1+cell": {
     "cellMetadata": {
      "byteLimit": 2048000,
      "rowLimit": 10000
     },
     "inputWidgets": {},
     "nuid": "95a94e6a-c867-4c82-bd57-35c13370451f",
     "showTitle": false,
     "title": ""
    }
   },
   "outputs": [],
   "source": [
    "mean_date = df['DateOfBirth'].dropna().mean()"
   ]
  },
  {
   "cell_type": "code",
   "execution_count": 7,
   "metadata": {
    "application/vnd.databricks.v1+cell": {
     "cellMetadata": {
      "byteLimit": 2048000,
      "rowLimit": 10000
     },
     "inputWidgets": {},
     "nuid": "1657f8a4-409a-46c9-b446-41f740209b0c",
     "showTitle": false,
     "title": ""
    }
   },
   "outputs": [],
   "source": [
    "df['DateOfBirth'].fillna(mean_date, inplace=True)"
   ]
  },
  {
   "cell_type": "code",
   "execution_count": 8,
   "metadata": {
    "application/vnd.databricks.v1+cell": {
     "cellMetadata": {
      "byteLimit": 2048000,
      "rowLimit": 10000
     },
     "inputWidgets": {},
     "nuid": "0917fb60-d07a-4cd0-a73a-f05fbcc2bbe0",
     "showTitle": false,
     "title": ""
    }
   },
   "outputs": [],
   "source": [
    "columns = ['Gender', 'Symptoms', 'Causes', 'Disease', 'Medicine']\n",
    "for column in columns:\n",
    "    df[column].fillna(df[column].mode()[0], inplace=True)"
   ]
  },
  {
   "cell_type": "code",
   "execution_count": 9,
   "metadata": {
    "application/vnd.databricks.v1+cell": {
     "cellMetadata": {
      "byteLimit": 2048000,
      "rowLimit": 10000
     },
     "inputWidgets": {},
     "nuid": "e6ccebe2-3362-40db-a0da-e73b25c4e538",
     "showTitle": false,
     "title": ""
    }
   },
   "outputs": [
    {
     "data": {
      "text/plain": [
       "Name           46\n",
       "DateOfBirth     0\n",
       "Gender          0\n",
       "Symptoms        0\n",
       "Causes          0\n",
       "Disease         0\n",
       "Medicine        0\n",
       "dtype: int64"
      ]
     },
     "execution_count": 9,
     "metadata": {},
     "output_type": "execute_result"
    }
   ],
   "source": [
    "df.isnull().sum()"
   ]
  },
  {
   "cell_type": "code",
   "execution_count": 10,
   "metadata": {
    "application/vnd.databricks.v1+cell": {
     "cellMetadata": {
      "byteLimit": 2048000,
      "rowLimit": 10000
     },
     "inputWidgets": {},
     "nuid": "8aef97ec-241b-48a4-a79c-6af4540db8dc",
     "showTitle": false,
     "title": ""
    }
   },
   "outputs": [],
   "source": [
    "df['Name'].fillna('Unknown Patient', inplace=True)"
   ]
  },
  {
   "cell_type": "code",
   "execution_count": 11,
   "metadata": {
    "application/vnd.databricks.v1+cell": {
     "cellMetadata": {
      "byteLimit": 2048000,
      "rowLimit": 10000
     },
     "inputWidgets": {},
     "nuid": "095d8021-f31e-4103-9654-0511888f324c",
     "showTitle": false,
     "title": ""
    }
   },
   "outputs": [
    {
     "data": {
      "text/html": [
       "<div>\n",
       "<style scoped>\n",
       "    .dataframe tbody tr th:only-of-type {\n",
       "        vertical-align: middle;\n",
       "    }\n",
       "\n",
       "    .dataframe tbody tr th {\n",
       "        vertical-align: top;\n",
       "    }\n",
       "\n",
       "    .dataframe thead th {\n",
       "        text-align: right;\n",
       "    }\n",
       "</style>\n",
       "<table border=\"1\" class=\"dataframe\">\n",
       "  <thead>\n",
       "    <tr style=\"text-align: right;\">\n",
       "      <th></th>\n",
       "      <th>Name</th>\n",
       "      <th>DateOfBirth</th>\n",
       "      <th>Gender</th>\n",
       "      <th>Symptoms</th>\n",
       "      <th>Causes</th>\n",
       "      <th>Disease</th>\n",
       "      <th>Medicine</th>\n",
       "    </tr>\n",
       "  </thead>\n",
       "  <tbody>\n",
       "    <tr>\n",
       "      <th>0</th>\n",
       "      <td>John Doe</td>\n",
       "      <td>1980-05-15</td>\n",
       "      <td>Male</td>\n",
       "      <td>Fever, Cough</td>\n",
       "      <td>Viral Infection</td>\n",
       "      <td>Common Cold</td>\n",
       "      <td>Ibuprofen, Rest</td>\n",
       "    </tr>\n",
       "    <tr>\n",
       "      <th>1</th>\n",
       "      <td>Jane Smith</td>\n",
       "      <td>1992-10-08</td>\n",
       "      <td>Female</td>\n",
       "      <td>Headache, Fatigue</td>\n",
       "      <td>Stress</td>\n",
       "      <td>Migraine</td>\n",
       "      <td>Sumatriptan</td>\n",
       "    </tr>\n",
       "    <tr>\n",
       "      <th>2</th>\n",
       "      <td>Michael Lee</td>\n",
       "      <td>1975-02-20</td>\n",
       "      <td>Male</td>\n",
       "      <td>Shortness of breath</td>\n",
       "      <td>Pollution</td>\n",
       "      <td>Asthma</td>\n",
       "      <td>Albuterol Inhaler</td>\n",
       "    </tr>\n",
       "    <tr>\n",
       "      <th>3</th>\n",
       "      <td>Emily Chen</td>\n",
       "      <td>1988-03-11</td>\n",
       "      <td>Female</td>\n",
       "      <td>Nausea, Vomiting</td>\n",
       "      <td>Food Poisoning</td>\n",
       "      <td>Gastroenteritis</td>\n",
       "      <td>Oral Rehydration</td>\n",
       "    </tr>\n",
       "    <tr>\n",
       "      <th>4</th>\n",
       "      <td>Alex Wong</td>\n",
       "      <td>2001-12-06</td>\n",
       "      <td>Male</td>\n",
       "      <td>Sore Throat</td>\n",
       "      <td>Bacterial Infection</td>\n",
       "      <td>Strep Throat</td>\n",
       "      <td>Penicillin</td>\n",
       "    </tr>\n",
       "    <tr>\n",
       "      <th>...</th>\n",
       "      <td>...</td>\n",
       "      <td>...</td>\n",
       "      <td>...</td>\n",
       "      <td>...</td>\n",
       "      <td>...</td>\n",
       "      <td>...</td>\n",
       "      <td>...</td>\n",
       "    </tr>\n",
       "    <tr>\n",
       "      <th>282</th>\n",
       "      <td>Ava Lim</td>\n",
       "      <td>1993-11-07</td>\n",
       "      <td>Female</td>\n",
       "      <td>Cough, Shortness of breath</td>\n",
       "      <td>COVID-19 Exposure</td>\n",
       "      <td>COVID-19</td>\n",
       "      <td>Isolation, Fluids</td>\n",
       "    </tr>\n",
       "    <tr>\n",
       "      <th>283</th>\n",
       "      <td>Liam Goh</td>\n",
       "      <td>1987-09-16</td>\n",
       "      <td>Male</td>\n",
       "      <td>Itching, Redness</td>\n",
       "      <td>Allergies</td>\n",
       "      <td>Allergic Reaction An</td>\n",
       "      <td>tihistamine</td>\n",
       "    </tr>\n",
       "    <tr>\n",
       "      <th>284</th>\n",
       "      <td>Sophie Tan</td>\n",
       "      <td>1975-02-18</td>\n",
       "      <td>Female</td>\n",
       "      <td>Muscle Pain, Fatigue</td>\n",
       "      <td>Overexertion</td>\n",
       "      <td>Muscle Strain</td>\n",
       "      <td>Rest, Pain Relievers</td>\n",
       "    </tr>\n",
       "    <tr>\n",
       "      <th>285</th>\n",
       "      <td>Noah Lim</td>\n",
       "      <td>2005-05-21</td>\n",
       "      <td>Male</td>\n",
       "      <td>Nausea, Vomiting</td>\n",
       "      <td>Food Poisoning</td>\n",
       "      <td>Muscle Strain</td>\n",
       "      <td>Rehydration</td>\n",
       "    </tr>\n",
       "    <tr>\n",
       "      <th>286</th>\n",
       "      <td>Ella Wong</td>\n",
       "      <td>1999-05-10</td>\n",
       "      <td>Female</td>\n",
       "      <td>Headache, Blurred Vision</td>\n",
       "      <td>Eye Strain</td>\n",
       "      <td>Muscle Strain</td>\n",
       "      <td>Eye Exercises</td>\n",
       "    </tr>\n",
       "  </tbody>\n",
       "</table>\n",
       "<p>287 rows × 7 columns</p>\n",
       "</div>"
      ],
      "text/plain": [
       "            Name DateOfBirth  Gender                    Symptoms  \\\n",
       "0       John Doe  1980-05-15    Male                Fever, Cough   \n",
       "1     Jane Smith  1992-10-08  Female           Headache, Fatigue   \n",
       "2    Michael Lee  1975-02-20    Male         Shortness of breath   \n",
       "3     Emily Chen  1988-03-11  Female            Nausea, Vomiting   \n",
       "4      Alex Wong  2001-12-06    Male                 Sore Throat   \n",
       "..           ...         ...     ...                         ...   \n",
       "282      Ava Lim  1993-11-07  Female  Cough, Shortness of breath   \n",
       "283     Liam Goh  1987-09-16    Male            Itching, Redness   \n",
       "284   Sophie Tan  1975-02-18  Female        Muscle Pain, Fatigue   \n",
       "285     Noah Lim  2005-05-21    Male            Nausea, Vomiting   \n",
       "286    Ella Wong  1999-05-10  Female    Headache, Blurred Vision   \n",
       "\n",
       "                   Causes               Disease               Medicine  \n",
       "0         Viral Infection           Common Cold        Ibuprofen, Rest  \n",
       "1                  Stress              Migraine            Sumatriptan  \n",
       "2               Pollution                Asthma      Albuterol Inhaler  \n",
       "3          Food Poisoning       Gastroenteritis       Oral Rehydration  \n",
       "4     Bacterial Infection          Strep Throat             Penicillin  \n",
       "..                    ...                   ...                    ...  \n",
       "282  COVID-19 Exposure           COVID-19            Isolation, Fluids  \n",
       "283  Allergies             Allergic Reaction An            tihistamine  \n",
       "284  Overexertion               Muscle Strain     Rest, Pain Relievers  \n",
       "285      Food Poisoning         Muscle Strain              Rehydration  \n",
       "286  Eye Strain                 Muscle Strain            Eye Exercises  \n",
       "\n",
       "[287 rows x 7 columns]"
      ]
     },
     "execution_count": 11,
     "metadata": {},
     "output_type": "execute_result"
    }
   ],
   "source": [
    "df"
   ]
  },
  {
   "cell_type": "code",
   "execution_count": 28,
   "metadata": {
    "application/vnd.databricks.v1+cell": {
     "cellMetadata": {
      "byteLimit": 2048000,
      "rowLimit": 10000
     },
     "inputWidgets": {},
     "nuid": "cc69bcd7-c661-41a7-86b3-c3c4410ba005",
     "showTitle": false,
     "title": ""
    }
   },
   "outputs": [],
   "source": [
    "encoder = LabelEncoder()\n",
    "\n",
    "X = df[['Name', 'Gender', 'Symptoms', 'Causes', 'Disease', 'Medicine']]\n",
    "df = X .apply(encoder.fit_transform)"
   ]
  },
  {
   "cell_type": "code",
   "execution_count": 29,
   "metadata": {
    "application/vnd.databricks.v1+cell": {
     "cellMetadata": {
      "byteLimit": 2048000,
      "rowLimit": 10000
     },
     "inputWidgets": {},
     "nuid": "591227ec-5099-4553-a560-a73c68ff719c",
     "showTitle": false,
     "title": ""
    }
   },
   "outputs": [
    {
     "data": {
      "text/html": [
       "<div>\n",
       "<style scoped>\n",
       "    .dataframe tbody tr th:only-of-type {\n",
       "        vertical-align: middle;\n",
       "    }\n",
       "\n",
       "    .dataframe tbody tr th {\n",
       "        vertical-align: top;\n",
       "    }\n",
       "\n",
       "    .dataframe thead th {\n",
       "        text-align: right;\n",
       "    }\n",
       "</style>\n",
       "<table border=\"1\" class=\"dataframe\">\n",
       "  <thead>\n",
       "    <tr style=\"text-align: right;\">\n",
       "      <th></th>\n",
       "      <th>Name</th>\n",
       "      <th>Gender</th>\n",
       "      <th>Symptoms</th>\n",
       "      <th>Causes</th>\n",
       "      <th>Disease</th>\n",
       "      <th>Medicine</th>\n",
       "    </tr>\n",
       "  </thead>\n",
       "  <tbody>\n",
       "    <tr>\n",
       "      <th>0</th>\n",
       "      <td>44</td>\n",
       "      <td>2</td>\n",
       "      <td>26</td>\n",
       "      <td>56</td>\n",
       "      <td>14</td>\n",
       "      <td>36</td>\n",
       "    </tr>\n",
       "    <tr>\n",
       "      <th>1</th>\n",
       "      <td>41</td>\n",
       "      <td>1</td>\n",
       "      <td>30</td>\n",
       "      <td>51</td>\n",
       "      <td>39</td>\n",
       "      <td>55</td>\n",
       "    </tr>\n",
       "    <tr>\n",
       "      <th>2</th>\n",
       "      <td>57</td>\n",
       "      <td>2</td>\n",
       "      <td>39</td>\n",
       "      <td>41</td>\n",
       "      <td>8</td>\n",
       "      <td>18</td>\n",
       "    </tr>\n",
       "    <tr>\n",
       "      <th>3</th>\n",
       "      <td>18</td>\n",
       "      <td>1</td>\n",
       "      <td>38</td>\n",
       "      <td>19</td>\n",
       "      <td>24</td>\n",
       "      <td>44</td>\n",
       "    </tr>\n",
       "    <tr>\n",
       "      <th>4</th>\n",
       "      <td>3</td>\n",
       "      <td>2</td>\n",
       "      <td>41</td>\n",
       "      <td>6</td>\n",
       "      <td>58</td>\n",
       "      <td>47</td>\n",
       "    </tr>\n",
       "    <tr>\n",
       "      <th>...</th>\n",
       "      <td>...</td>\n",
       "      <td>...</td>\n",
       "      <td>...</td>\n",
       "      <td>...</td>\n",
       "      <td>...</td>\n",
       "      <td>...</td>\n",
       "    </tr>\n",
       "    <tr>\n",
       "      <th>282</th>\n",
       "      <td>7</td>\n",
       "      <td>1</td>\n",
       "      <td>18</td>\n",
       "      <td>9</td>\n",
       "      <td>10</td>\n",
       "      <td>1</td>\n",
       "    </tr>\n",
       "    <tr>\n",
       "      <th>283</th>\n",
       "      <td>49</td>\n",
       "      <td>2</td>\n",
       "      <td>32</td>\n",
       "      <td>2</td>\n",
       "      <td>4</td>\n",
       "      <td>63</td>\n",
       "    </tr>\n",
       "    <tr>\n",
       "      <th>284</th>\n",
       "      <td>82</td>\n",
       "      <td>1</td>\n",
       "      <td>35</td>\n",
       "      <td>39</td>\n",
       "      <td>44</td>\n",
       "      <td>14</td>\n",
       "    </tr>\n",
       "    <tr>\n",
       "      <th>285</th>\n",
       "      <td>62</td>\n",
       "      <td>2</td>\n",
       "      <td>38</td>\n",
       "      <td>20</td>\n",
       "      <td>44</td>\n",
       "      <td>48</td>\n",
       "    </tr>\n",
       "    <tr>\n",
       "      <th>286</th>\n",
       "      <td>17</td>\n",
       "      <td>1</td>\n",
       "      <td>29</td>\n",
       "      <td>18</td>\n",
       "      <td>44</td>\n",
       "      <td>30</td>\n",
       "    </tr>\n",
       "  </tbody>\n",
       "</table>\n",
       "<p>287 rows × 6 columns</p>\n",
       "</div>"
      ],
      "text/plain": [
       "     Name  Gender  Symptoms  Causes  Disease  Medicine\n",
       "0      44       2        26      56       14        36\n",
       "1      41       1        30      51       39        55\n",
       "2      57       2        39      41        8        18\n",
       "3      18       1        38      19       24        44\n",
       "4       3       2        41       6       58        47\n",
       "..    ...     ...       ...     ...      ...       ...\n",
       "282     7       1        18       9       10         1\n",
       "283    49       2        32       2        4        63\n",
       "284    82       1        35      39       44        14\n",
       "285    62       2        38      20       44        48\n",
       "286    17       1        29      18       44        30\n",
       "\n",
       "[287 rows x 6 columns]"
      ]
     },
     "execution_count": 29,
     "metadata": {},
     "output_type": "execute_result"
    }
   ],
   "source": [
    "df"
   ]
  },
  {
   "cell_type": "code",
   "execution_count": 32,
   "metadata": {},
   "outputs": [
    {
     "data": {
      "text/html": [
       "<div>\n",
       "<style scoped>\n",
       "    .dataframe tbody tr th:only-of-type {\n",
       "        vertical-align: middle;\n",
       "    }\n",
       "\n",
       "    .dataframe tbody tr th {\n",
       "        vertical-align: top;\n",
       "    }\n",
       "\n",
       "    .dataframe thead th {\n",
       "        text-align: right;\n",
       "    }\n",
       "</style>\n",
       "<table border=\"1\" class=\"dataframe\">\n",
       "  <thead>\n",
       "    <tr style=\"text-align: right;\">\n",
       "      <th></th>\n",
       "      <th>Gender</th>\n",
       "      <th>Symptoms</th>\n",
       "      <th>Causes</th>\n",
       "      <th>Medicine</th>\n",
       "    </tr>\n",
       "  </thead>\n",
       "  <tbody>\n",
       "    <tr>\n",
       "      <th>0</th>\n",
       "      <td>2</td>\n",
       "      <td>26</td>\n",
       "      <td>56</td>\n",
       "      <td>36</td>\n",
       "    </tr>\n",
       "    <tr>\n",
       "      <th>1</th>\n",
       "      <td>1</td>\n",
       "      <td>30</td>\n",
       "      <td>51</td>\n",
       "      <td>55</td>\n",
       "    </tr>\n",
       "    <tr>\n",
       "      <th>2</th>\n",
       "      <td>2</td>\n",
       "      <td>39</td>\n",
       "      <td>41</td>\n",
       "      <td>18</td>\n",
       "    </tr>\n",
       "    <tr>\n",
       "      <th>3</th>\n",
       "      <td>1</td>\n",
       "      <td>38</td>\n",
       "      <td>19</td>\n",
       "      <td>44</td>\n",
       "    </tr>\n",
       "    <tr>\n",
       "      <th>4</th>\n",
       "      <td>2</td>\n",
       "      <td>41</td>\n",
       "      <td>6</td>\n",
       "      <td>47</td>\n",
       "    </tr>\n",
       "    <tr>\n",
       "      <th>...</th>\n",
       "      <td>...</td>\n",
       "      <td>...</td>\n",
       "      <td>...</td>\n",
       "      <td>...</td>\n",
       "    </tr>\n",
       "    <tr>\n",
       "      <th>282</th>\n",
       "      <td>1</td>\n",
       "      <td>18</td>\n",
       "      <td>9</td>\n",
       "      <td>1</td>\n",
       "    </tr>\n",
       "    <tr>\n",
       "      <th>283</th>\n",
       "      <td>2</td>\n",
       "      <td>32</td>\n",
       "      <td>2</td>\n",
       "      <td>63</td>\n",
       "    </tr>\n",
       "    <tr>\n",
       "      <th>284</th>\n",
       "      <td>1</td>\n",
       "      <td>35</td>\n",
       "      <td>39</td>\n",
       "      <td>14</td>\n",
       "    </tr>\n",
       "    <tr>\n",
       "      <th>285</th>\n",
       "      <td>2</td>\n",
       "      <td>38</td>\n",
       "      <td>20</td>\n",
       "      <td>48</td>\n",
       "    </tr>\n",
       "    <tr>\n",
       "      <th>286</th>\n",
       "      <td>1</td>\n",
       "      <td>29</td>\n",
       "      <td>18</td>\n",
       "      <td>30</td>\n",
       "    </tr>\n",
       "  </tbody>\n",
       "</table>\n",
       "<p>287 rows × 4 columns</p>\n",
       "</div>"
      ],
      "text/plain": [
       "     Gender  Symptoms  Causes  Medicine\n",
       "0         2        26      56        36\n",
       "1         1        30      51        55\n",
       "2         2        39      41        18\n",
       "3         1        38      19        44\n",
       "4         2        41       6        47\n",
       "..      ...       ...     ...       ...\n",
       "282       1        18       9         1\n",
       "283       2        32       2        63\n",
       "284       1        35      39        14\n",
       "285       2        38      20        48\n",
       "286       1        29      18        30\n",
       "\n",
       "[287 rows x 4 columns]"
      ]
     },
     "execution_count": 32,
     "metadata": {},
     "output_type": "execute_result"
    }
   ],
   "source": [
    "encoder2 = LabelEncoder()\n",
    "\n",
    "X2 = df[['Gender', 'Symptoms', 'Causes', 'Medicine']]\n",
    "df2 = X2.apply(encoder.fit_transform)\n",
    "df2"
   ]
  },
  {
   "cell_type": "code",
   "execution_count": 14,
   "metadata": {
    "application/vnd.databricks.v1+cell": {
     "cellMetadata": {
      "byteLimit": 2048000,
      "rowLimit": 10000
     },
     "inputWidgets": {},
     "nuid": "a737de57-0e4f-4c1c-9088-e409c3f59ab5",
     "showTitle": false,
     "title": ""
    }
   },
   "outputs": [],
   "source": [
    "drop_columns = ['Name', 'Medicine']\n",
    "X = df.drop(drop_columns, axis=1)\n",
    "y = df['Medicine']"
   ]
  },
  {
   "cell_type": "code",
   "execution_count": 15,
   "metadata": {
    "application/vnd.databricks.v1+cell": {
     "cellMetadata": {
      "byteLimit": 2048000,
      "rowLimit": 10000
     },
     "inputWidgets": {},
     "nuid": "12d6cc3e-c687-4c3b-b8c4-db4d7a616b60",
     "showTitle": false,
     "title": ""
    }
   },
   "outputs": [
    {
     "data": {
      "text/html": [
       "<div>\n",
       "<style scoped>\n",
       "    .dataframe tbody tr th:only-of-type {\n",
       "        vertical-align: middle;\n",
       "    }\n",
       "\n",
       "    .dataframe tbody tr th {\n",
       "        vertical-align: top;\n",
       "    }\n",
       "\n",
       "    .dataframe thead th {\n",
       "        text-align: right;\n",
       "    }\n",
       "</style>\n",
       "<table border=\"1\" class=\"dataframe\">\n",
       "  <thead>\n",
       "    <tr style=\"text-align: right;\">\n",
       "      <th></th>\n",
       "      <th>Gender</th>\n",
       "      <th>Symptoms</th>\n",
       "      <th>Causes</th>\n",
       "      <th>Disease</th>\n",
       "    </tr>\n",
       "  </thead>\n",
       "  <tbody>\n",
       "    <tr>\n",
       "      <th>0</th>\n",
       "      <td>2</td>\n",
       "      <td>26</td>\n",
       "      <td>56</td>\n",
       "      <td>14</td>\n",
       "    </tr>\n",
       "    <tr>\n",
       "      <th>1</th>\n",
       "      <td>1</td>\n",
       "      <td>30</td>\n",
       "      <td>51</td>\n",
       "      <td>39</td>\n",
       "    </tr>\n",
       "    <tr>\n",
       "      <th>2</th>\n",
       "      <td>2</td>\n",
       "      <td>39</td>\n",
       "      <td>41</td>\n",
       "      <td>8</td>\n",
       "    </tr>\n",
       "    <tr>\n",
       "      <th>3</th>\n",
       "      <td>1</td>\n",
       "      <td>38</td>\n",
       "      <td>19</td>\n",
       "      <td>24</td>\n",
       "    </tr>\n",
       "    <tr>\n",
       "      <th>4</th>\n",
       "      <td>2</td>\n",
       "      <td>41</td>\n",
       "      <td>6</td>\n",
       "      <td>58</td>\n",
       "    </tr>\n",
       "    <tr>\n",
       "      <th>...</th>\n",
       "      <td>...</td>\n",
       "      <td>...</td>\n",
       "      <td>...</td>\n",
       "      <td>...</td>\n",
       "    </tr>\n",
       "    <tr>\n",
       "      <th>282</th>\n",
       "      <td>1</td>\n",
       "      <td>18</td>\n",
       "      <td>9</td>\n",
       "      <td>10</td>\n",
       "    </tr>\n",
       "    <tr>\n",
       "      <th>283</th>\n",
       "      <td>2</td>\n",
       "      <td>32</td>\n",
       "      <td>2</td>\n",
       "      <td>4</td>\n",
       "    </tr>\n",
       "    <tr>\n",
       "      <th>284</th>\n",
       "      <td>1</td>\n",
       "      <td>35</td>\n",
       "      <td>39</td>\n",
       "      <td>44</td>\n",
       "    </tr>\n",
       "    <tr>\n",
       "      <th>285</th>\n",
       "      <td>2</td>\n",
       "      <td>38</td>\n",
       "      <td>20</td>\n",
       "      <td>44</td>\n",
       "    </tr>\n",
       "    <tr>\n",
       "      <th>286</th>\n",
       "      <td>1</td>\n",
       "      <td>29</td>\n",
       "      <td>18</td>\n",
       "      <td>44</td>\n",
       "    </tr>\n",
       "  </tbody>\n",
       "</table>\n",
       "<p>287 rows × 4 columns</p>\n",
       "</div>"
      ],
      "text/plain": [
       "     Gender  Symptoms  Causes  Disease\n",
       "0         2        26      56       14\n",
       "1         1        30      51       39\n",
       "2         2        39      41        8\n",
       "3         1        38      19       24\n",
       "4         2        41       6       58\n",
       "..      ...       ...     ...      ...\n",
       "282       1        18       9       10\n",
       "283       2        32       2        4\n",
       "284       1        35      39       44\n",
       "285       2        38      20       44\n",
       "286       1        29      18       44\n",
       "\n",
       "[287 rows x 4 columns]"
      ]
     },
     "execution_count": 15,
     "metadata": {},
     "output_type": "execute_result"
    }
   ],
   "source": [
    "X"
   ]
  },
  {
   "cell_type": "code",
   "execution_count": 16,
   "metadata": {
    "application/vnd.databricks.v1+cell": {
     "cellMetadata": {
      "byteLimit": 2048000,
      "rowLimit": 10000
     },
     "inputWidgets": {},
     "nuid": "a70539c2-c204-418d-b799-ac89708bdae3",
     "showTitle": false,
     "title": ""
    }
   },
   "outputs": [
    {
     "data": {
      "text/plain": [
       "0      36\n",
       "1      55\n",
       "2      18\n",
       "3      44\n",
       "4      47\n",
       "       ..\n",
       "282     1\n",
       "283    63\n",
       "284    14\n",
       "285    48\n",
       "286    30\n",
       "Name: Medicine, Length: 287, dtype: int32"
      ]
     },
     "execution_count": 16,
     "metadata": {},
     "output_type": "execute_result"
    }
   ],
   "source": [
    "y"
   ]
  },
  {
   "cell_type": "code",
   "execution_count": 17,
   "metadata": {
    "application/vnd.databricks.v1+cell": {
     "cellMetadata": {
      "byteLimit": 2048000,
      "rowLimit": 10000
     },
     "inputWidgets": {},
     "nuid": "a933940a-7938-49eb-869f-90c658912d3b",
     "showTitle": false,
     "title": ""
    }
   },
   "outputs": [],
   "source": [
    "X_train, X_test, y_train, y_test = train_test_split(X, y, test_size=0.2, random_state=42)"
   ]
  },
  {
   "cell_type": "code",
   "execution_count": 18,
   "metadata": {
    "application/vnd.databricks.v1+cell": {
     "cellMetadata": {
      "byteLimit": 2048000,
      "rowLimit": 10000
     },
     "inputWidgets": {},
     "nuid": "2f518567-7cd1-434c-aa0b-4b8e1ddb7b1a",
     "showTitle": false,
     "title": ""
    }
   },
   "outputs": [],
   "source": [
    "rf_model = RandomForestClassifier()\n",
    "rf_model.fit(X_train, y_train)\n",
    "rf_pred = rf_model.predict(X_test)"
   ]
  },
  {
   "cell_type": "code",
   "execution_count": 19,
   "metadata": {
    "application/vnd.databricks.v1+cell": {
     "cellMetadata": {
      "byteLimit": 2048000,
      "rowLimit": 10000
     },
     "inputWidgets": {},
     "nuid": "fce9ce29-a7b6-446c-b46d-548dc23e998e",
     "showTitle": false,
     "title": ""
    }
   },
   "outputs": [],
   "source": [
    "knn_model = KNeighborsClassifier()\n",
    "knn_model.fit(X_train, y_train)\n",
    "knn_pred = knn_model.predict(X_test)"
   ]
  },
  {
   "cell_type": "code",
   "execution_count": 20,
   "metadata": {
    "application/vnd.databricks.v1+cell": {
     "cellMetadata": {
      "byteLimit": 2048000,
      "rowLimit": 10000
     },
     "inputWidgets": {},
     "nuid": "9c734c22-9c52-4d71-b7bf-0a40f5489cfe",
     "showTitle": false,
     "title": ""
    }
   },
   "outputs": [],
   "source": [
    "svc_model = SVC(kernel='linear', C=0.025)\n",
    "svc_model.fit(X_train, y_train)\n",
    "svc_pred = svc_model.predict(X_test)"
   ]
  },
  {
   "cell_type": "code",
   "execution_count": 21,
   "metadata": {
    "application/vnd.databricks.v1+cell": {
     "cellMetadata": {
      "byteLimit": 2048000,
      "rowLimit": 10000
     },
     "inputWidgets": {},
     "nuid": "b0f60996-bb33-4589-845c-e9f8b28d8d57",
     "showTitle": false,
     "title": ""
    }
   },
   "outputs": [],
   "source": [
    "bayes_model = GaussianNB()\n",
    "bayes_model.fit(X_train, y_train)\n",
    "bayes_pred = bayes_model.predict(X_test)"
   ]
  },
  {
   "cell_type": "code",
   "execution_count": 22,
   "metadata": {
    "application/vnd.databricks.v1+cell": {
     "cellMetadata": {
      "byteLimit": 2048000,
      "rowLimit": 10000
     },
     "inputWidgets": {},
     "nuid": "b1c61c45-02f7-46bd-beca-0e677d924478",
     "showTitle": false,
     "title": ""
    }
   },
   "outputs": [],
   "source": [
    "dt_model = DecisionTreeClassifier(max_depth=5)\n",
    "dt_model.fit(X_train, y_train)\n",
    "dt_pred = dt_model.predict(X_test)"
   ]
  },
  {
   "cell_type": "code",
   "execution_count": 23,
   "metadata": {
    "application/vnd.databricks.v1+cell": {
     "cellMetadata": {
      "byteLimit": 2048000,
      "rowLimit": 10000
     },
     "inputWidgets": {},
     "nuid": "36c60ad2-84c4-407b-8928-cb742e8b0056",
     "showTitle": false,
     "title": ""
    }
   },
   "outputs": [
    {
     "name": "stdout",
     "output_type": "stream",
     "text": [
      "Random Forest Accuracy: 0.8793103448275862\n",
      "K-Nearest Neighbors Accuracy: 0.7931034482758621\n",
      "SVC Accuracy: 0.7586206896551724\n",
      "Naive Bayes Accuracy: 0.7586206896551724\n",
      "Decision Tree Model 0.6724137931034483\n"
     ]
    }
   ],
   "source": [
    "print('Random Forest Accuracy:', accuracy_score(y_test, rf_pred))\n",
    "print('K-Nearest Neighbors Accuracy:', accuracy_score(y_test, knn_pred))\n",
    "print('SVC Accuracy:', accuracy_score(y_test, svc_pred))\n",
    "print('Naive Bayes Accuracy:', accuracy_score(y_test, svc_pred))\n",
    "print(\"Decision Tree Model\", accuracy_score(y_test, dt_pred))"
   ]
  },
  {
   "cell_type": "code",
   "execution_count": 24,
   "metadata": {
    "application/vnd.databricks.v1+cell": {
     "cellMetadata": {
      "byteLimit": 2048000,
      "rowLimit": 10000
     },
     "inputWidgets": {},
     "nuid": "c02d7d6d-71ff-4dac-bbcf-62b6b9077e14",
     "showTitle": false,
     "title": ""
    }
   },
   "outputs": [],
   "source": [
    "import pickle\n",
    "# Download best model, Random Forest Algorithm\n",
    "pickle.dump(rf_model, open('rf_model_med.pkl', 'wb'))"
   ]
  },
  {
   "cell_type": "code",
   "execution_count": 25,
   "metadata": {
    "application/vnd.databricks.v1+cell": {
     "cellMetadata": {
      "byteLimit": 2048000,
      "rowLimit": 10000
     },
     "inputWidgets": {},
     "nuid": "bfd0dd78-caee-4109-b43d-b2cf98503f13",
     "showTitle": false,
     "title": ""
    }
   },
   "outputs": [
    {
     "ename": "ModuleNotFoundError",
     "evalue": "No module named 'yellowbrick'",
     "output_type": "error",
     "traceback": [
      "\u001b[1;31m---------------------------------------------------------------------------\u001b[0m",
      "\u001b[1;31mModuleNotFoundError\u001b[0m                       Traceback (most recent call last)",
      "Cell \u001b[1;32mIn[25], line 2\u001b[0m\n\u001b[0;32m      1\u001b[0m \u001b[38;5;66;03m# Data Visualizations\u001b[39;00m\n\u001b[1;32m----> 2\u001b[0m \u001b[38;5;28;01mfrom\u001b[39;00m \u001b[38;5;21;01myellowbrick\u001b[39;00m\u001b[38;5;21;01m.\u001b[39;00m\u001b[38;5;21;01mdatasets\u001b[39;00m \u001b[38;5;28;01mimport\u001b[39;00m load_credit\n\u001b[0;32m      3\u001b[0m \u001b[38;5;28;01mfrom\u001b[39;00m \u001b[38;5;21;01myellowbrick\u001b[39;00m\u001b[38;5;21;01m.\u001b[39;00m\u001b[38;5;21;01mfeatures\u001b[39;00m \u001b[38;5;28;01mimport\u001b[39;00m Rank2D\n\u001b[0;32m      4\u001b[0m \u001b[38;5;28;01mfrom\u001b[39;00m \u001b[38;5;21;01myellowbrick\u001b[39;00m\u001b[38;5;21;01m.\u001b[39;00m\u001b[38;5;21;01mmodel_selection\u001b[39;00m \u001b[38;5;28;01mimport\u001b[39;00m ValidationCurve\n",
      "\u001b[1;31mModuleNotFoundError\u001b[0m: No module named 'yellowbrick'"
     ]
    }
   ],
   "source": [
    "# Data Visualizations\n",
    "from yellowbrick.datasets import load_credit\n",
    "from yellowbrick.features import Rank2D\n",
    "from yellowbrick.model_selection import ValidationCurve\n",
    "from yellowbrick.model_selection import FeatureImportances"
   ]
  },
  {
   "cell_type": "code",
   "execution_count": null,
   "metadata": {
    "application/vnd.databricks.v1+cell": {
     "cellMetadata": {
      "byteLimit": 2048000,
      "rowLimit": 10000
     },
     "inputWidgets": {},
     "nuid": "e4580248-a5d9-448c-933a-49c42ada558b",
     "showTitle": false,
     "title": ""
    }
   },
   "outputs": [
    {
     "ename": "NameError",
     "evalue": "name 'Rank2D' is not defined",
     "output_type": "error",
     "traceback": [
      "\u001b[1;31m---------------------------------------------------------------------------\u001b[0m",
      "\u001b[1;31mNameError\u001b[0m                                 Traceback (most recent call last)",
      "Cell \u001b[1;32mIn[26], line 1\u001b[0m\n\u001b[1;32m----> 1\u001b[0m visualizer \u001b[38;5;241m=\u001b[39m \u001b[43mRank2D\u001b[49m(algorithm\u001b[38;5;241m=\u001b[39m\u001b[38;5;124m'\u001b[39m\u001b[38;5;124mpearson\u001b[39m\u001b[38;5;124m'\u001b[39m)\n\u001b[0;32m      3\u001b[0m visualizer\u001b[38;5;241m.\u001b[39mfit(X, y)           \u001b[38;5;66;03m# Fit the data to the visualizer\u001b[39;00m\n\u001b[0;32m      4\u001b[0m visualizer\u001b[38;5;241m.\u001b[39mtransform(X)        \u001b[38;5;66;03m# Transform the data\u001b[39;00m\n",
      "\u001b[1;31mNameError\u001b[0m: name 'Rank2D' is not defined"
     ]
    }
   ],
   "source": [
    "visualizer = Rank2D(algorithm='pearson')\n",
    "\n",
    "visualizer.fit(X, y)           # Fit the data to the visualizer\n",
    "visualizer.transform(X)        # Transform the data\n",
    "visualizer.show()"
   ]
  },
  {
   "cell_type": "code",
   "execution_count": null,
   "metadata": {
    "application/vnd.databricks.v1+cell": {
     "cellMetadata": {
      "byteLimit": 2048000,
      "rowLimit": 10000
     },
     "inputWidgets": {},
     "nuid": "b215cb62-b842-4fd2-961f-3f8863869277",
     "showTitle": false,
     "title": ""
    }
   },
   "outputs": [
    {
     "name": "stderr",
     "output_type": "stream",
     "text": [
      "/databricks/python/lib/python3.9/site-packages/sklearn/base.py:450: UserWarning: X does not have valid feature names, but RandomForestClassifier was fitted with feature names\n",
      "  warnings.warn(\n"
     ]
    },
    {
     "data": {
      "image/png": "[encoded data removed]"
     },
     "metadata": {
      "application/vnd.databricks.v1+output": {
       "addedWidgets": {},
       "arguments": {},
       "data": "data:image/png;base64,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\n",
       "datasetInfos": [],
       "metadata": {},
       "removedWidgets": [],
       "type": "image"
      }
     },
     "output_type": "display_data"
    },
    {
     "name": "stdout",
     "output_type": "stream",
     "text": [
      "Out[174]: <AxesSubplot:title={'center':'Feature Importances of 4 Features using RandomForestClassifier'}, xlabel='relative importance'>"
     ]
    }
   ],
   "source": [
    "viz = FeatureImportances(rf_model)\n",
    "viz.fit(X, y)\n",
    "viz.show()"
   ]
  },
  {
   "cell_type": "code",
   "execution_count": null,
   "metadata": {
    "application/vnd.databricks.v1+cell": {
     "cellMetadata": {
      "byteLimit": 2048000,
      "rowLimit": 10000
     },
     "inputWidgets": {},
     "nuid": "fcf3bb5f-1eb5-4af3-b1a8-fb9d92925aec",
     "showTitle": false,
     "title": ""
    }
   },
   "outputs": [
    {
     "name": "stderr",
     "output_type": "stream",
     "text": [
      "/databricks/python/lib/python3.9/site-packages/sklearn/model_selection/_split.py:676: UserWarning: The least populated class in y has only 1 members, which is less than n_splits=10.\n",
      "  warnings.warn(\n",
      "WARNING:matplotlib.font_manager:findfont: Font family ['sans-serif'] not found. Falling back to DejaVu Sans.\n",
      "WARNING:matplotlib.font_manager:findfont: Generic family 'sans-serif' not found because none of the following families were found: Arial, Liberation Sans, Bitstream Vera Sans, sans-serif\n"
     ]
    },
    {
     "data": {
      "image/png": "[encoded data removed]"
     },
     "metadata": {
      "application/vnd.databricks.v1+output": {
       "addedWidgets": {},
       "arguments": {},
       "data": "data:image/png;base64,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\n",
       "datasetInfos": [],
       "metadata": {},
       "removedWidgets": [],
       "type": "image"
      }
     },
     "output_type": "display_data"
    },
    {
     "name": "stdout",
     "output_type": "stream",
     "text": [
      "Out[172]: <AxesSubplot:title={'center':'Validation Curve for RandomForestClassifier'}, xlabel='max_depth', ylabel='score'>"
     ]
    }
   ],
   "source": [
    "viz = ValidationCurve(\n",
    "    RandomForestClassifier(), param_name=\"max_depth\",\n",
    "    param_range=np.arange(1, 11), cv=10, scoring=\"r2\"\n",
    ")\n",
    "\n",
    "# Fit and show the visualizer\n",
    "viz.fit(X, y)\n",
    "viz.show()"
   ]
  },
  {
   "cell_type": "code",
   "execution_count": null,
   "metadata": {
    "application/vnd.databricks.v1+cell": {
     "cellMetadata": {
      "byteLimit": 2048000,
      "rowLimit": 10000
     },
     "inputWidgets": {},
     "nuid": "cecccf8f-3672-436b-831c-14f131ee0d0c",
     "showTitle": false,
     "title": ""
    }
   },
   "outputs": [
    {
     "data": {
      "text/html": [
       "<div>\n",
       "<style scoped>\n",
       "    .dataframe tbody tr th:only-of-type {\n",
       "        vertical-align: middle;\n",
       "    }\n",
       "\n",
       "    .dataframe tbody tr th {\n",
       "        vertical-align: top;\n",
       "    }\n",
       "\n",
       "    .dataframe thead th {\n",
       "        text-align: right;\n",
       "    }\n",
       "</style>\n",
       "<table border=\"1\" class=\"dataframe\">\n",
       "  <thead>\n",
       "    <tr style=\"text-align: right;\">\n",
       "      <th></th>\n",
       "      <th>Name</th>\n",
       "      <th>Gender</th>\n",
       "      <th>Symptoms</th>\n",
       "      <th>Causes</th>\n",
       "      <th>Disease</th>\n",
       "      <th>Medicine</th>\n",
       "    </tr>\n",
       "  </thead>\n",
       "  <tbody>\n",
       "    <tr>\n",
       "      <th>0</th>\n",
       "      <td>44</td>\n",
       "      <td>2</td>\n",
       "      <td>26</td>\n",
       "      <td>56</td>\n",
       "      <td>14</td>\n",
       "      <td>36</td>\n",
       "    </tr>\n",
       "    <tr>\n",
       "      <th>1</th>\n",
       "      <td>41</td>\n",
       "      <td>1</td>\n",
       "      <td>30</td>\n",
       "      <td>51</td>\n",
       "      <td>39</td>\n",
       "      <td>55</td>\n",
       "    </tr>\n",
       "    <tr>\n",
       "      <th>2</th>\n",
       "      <td>57</td>\n",
       "      <td>2</td>\n",
       "      <td>39</td>\n",
       "      <td>41</td>\n",
       "      <td>8</td>\n",
       "      <td>18</td>\n",
       "    </tr>\n",
       "    <tr>\n",
       "      <th>3</th>\n",
       "      <td>18</td>\n",
       "      <td>1</td>\n",
       "      <td>38</td>\n",
       "      <td>19</td>\n",
       "      <td>24</td>\n",
       "      <td>44</td>\n",
       "    </tr>\n",
       "    <tr>\n",
       "      <th>4</th>\n",
       "      <td>3</td>\n",
       "      <td>2</td>\n",
       "      <td>41</td>\n",
       "      <td>6</td>\n",
       "      <td>58</td>\n",
       "      <td>47</td>\n",
       "    </tr>\n",
       "    <tr>\n",
       "      <th>...</th>\n",
       "      <td>...</td>\n",
       "      <td>...</td>\n",
       "      <td>...</td>\n",
       "      <td>...</td>\n",
       "      <td>...</td>\n",
       "      <td>...</td>\n",
       "    </tr>\n",
       "    <tr>\n",
       "      <th>282</th>\n",
       "      <td>7</td>\n",
       "      <td>1</td>\n",
       "      <td>18</td>\n",
       "      <td>9</td>\n",
       "      <td>10</td>\n",
       "      <td>1</td>\n",
       "    </tr>\n",
       "    <tr>\n",
       "      <th>283</th>\n",
       "      <td>49</td>\n",
       "      <td>2</td>\n",
       "      <td>32</td>\n",
       "      <td>2</td>\n",
       "      <td>4</td>\n",
       "      <td>63</td>\n",
       "    </tr>\n",
       "    <tr>\n",
       "      <th>284</th>\n",
       "      <td>82</td>\n",
       "      <td>1</td>\n",
       "      <td>35</td>\n",
       "      <td>39</td>\n",
       "      <td>44</td>\n",
       "      <td>14</td>\n",
       "    </tr>\n",
       "    <tr>\n",
       "      <th>285</th>\n",
       "      <td>62</td>\n",
       "      <td>2</td>\n",
       "      <td>38</td>\n",
       "      <td>20</td>\n",
       "      <td>44</td>\n",
       "      <td>48</td>\n",
       "    </tr>\n",
       "    <tr>\n",
       "      <th>286</th>\n",
       "      <td>17</td>\n",
       "      <td>1</td>\n",
       "      <td>29</td>\n",
       "      <td>18</td>\n",
       "      <td>44</td>\n",
       "      <td>30</td>\n",
       "    </tr>\n",
       "  </tbody>\n",
       "</table>\n",
       "<p>287 rows × 6 columns</p>\n",
       "</div>"
      ],
      "text/plain": [
       "     Name  Gender  Symptoms  Causes  Disease  Medicine\n",
       "0      44       2        26      56       14        36\n",
       "1      41       1        30      51       39        55\n",
       "2      57       2        39      41        8        18\n",
       "3      18       1        38      19       24        44\n",
       "4       3       2        41       6       58        47\n",
       "..    ...     ...       ...     ...      ...       ...\n",
       "282     7       1        18       9       10         1\n",
       "283    49       2        32       2        4        63\n",
       "284    82       1        35      39       44        14\n",
       "285    62       2        38      20       44        48\n",
       "286    17       1        29      18       44        30\n",
       "\n",
       "[287 rows x 6 columns]"
      ]
     },
     "execution_count": 27,
     "metadata": {},
     "output_type": "execute_result"
    }
   ],
   "source": [
    "# Disease Predictive Modelling\n",
    "df"
   ]
  },
  {
   "cell_type": "code",
   "execution_count": null,
   "metadata": {
    "application/vnd.databricks.v1+cell": {
     "cellMetadata": {
      "byteLimit": 2048000,
      "rowLimit": 10000
     },
     "inputWidgets": {},
     "nuid": "602711f7-72b9-4d95-a2cf-969ac041a276",
     "showTitle": false,
     "title": ""
    }
   },
   "outputs": [],
   "source": [
    "X = df[['Gender', 'Symptoms', 'Causes', 'Medicine']]\n",
    "y = df['Disease']"
   ]
  },
  {
   "cell_type": "code",
   "execution_count": null,
   "metadata": {
    "application/vnd.databricks.v1+cell": {
     "cellMetadata": {
      "byteLimit": 2048000,
      "rowLimit": 10000
     },
     "inputWidgets": {},
     "nuid": "517e6ca5-4a37-425d-acf5-95f688c47967",
     "showTitle": false,
     "title": ""
    }
   },
   "outputs": [],
   "source": [
    "X_train, X_test, y_train, y_test = train_test_split(X, y, test_size=0.2, random_state=42)"
   ]
  },
  {
   "cell_type": "code",
   "execution_count": null,
   "metadata": {
    "application/vnd.databricks.v1+cell": {
     "cellMetadata": {
      "byteLimit": 2048000,
      "rowLimit": 10000
     },
     "inputWidgets": {},
     "nuid": "61085f51-eb22-4263-b148-e6bd04663d95",
     "showTitle": false,
     "title": ""
    }
   },
   "outputs": [],
   "source": [
    "rf_model = RandomForestClassifier()\n",
    "rf_model.fit(X_train, y_train)\n",
    "rf_pred = rf_model.predict(X_test)\n",
    "\n",
    "knn_model = KNeighborsClassifier()\n",
    "knn_model.fit(X_train, y_train)\n",
    "knn_pred = knn_model.predict(X_test)\n",
    "\n",
    "svc_model = SVC(kernel='linear', C=0.025)\n",
    "svc_model.fit(X_train, y_train)\n",
    "svc_pred = svc_model.predict(X_test)\n",
    "\n",
    "bayes_model = GaussianNB()\n",
    "bayes_model.fit(X_train, y_train)\n",
    "bayes_pred = bayes_model.predict(X_test)\n",
    "\n",
    "dt_model = DecisionTreeClassifier(max_depth=5)\n",
    "dt_model.fit(X_train, y_train)\n",
    "dt_pred = dt_model.predict(X_test)"
   ]
  },
  {
   "cell_type": "code",
   "execution_count": null,
   "metadata": {
    "application/vnd.databricks.v1+cell": {
     "cellMetadata": {
      "byteLimit": 2048000,
      "rowLimit": 10000
     },
     "inputWidgets": {},
     "nuid": "b02d8626-a969-42a4-8840-68fe49217714",
     "showTitle": false,
     "title": ""
    }
   },
   "outputs": [
    {
     "name": "stdout",
     "output_type": "stream",
     "text": [
      "Random Forest Accuracy: 0.8448275862068966\n",
      "K-Nearest Neighbors Accuracy: 0.7241379310344828\n",
      "SVC Accuracy: 0.7068965517241379\n",
      "Naive Bayes Accuracy: 0.7068965517241379\n",
      "Decision Tree Model 0.6379310344827587\n"
     ]
    }
   ],
   "source": [
    "print('Random Forest Accuracy:', accuracy_score(y_test, rf_pred))\n",
    "print('K-Nearest Neighbors Accuracy:', accuracy_score(y_test, knn_pred))\n",
    "print('SVC Accuracy:', accuracy_score(y_test, svc_pred))\n",
    "print('Naive Bayes Accuracy:', accuracy_score(y_test, svc_pred))\n",
    "print(\"Decision Tree Model\", accuracy_score(y_test, dt_pred))\n"
   ]
  },
  {
   "cell_type": "code",
   "execution_count": null,
   "metadata": {
    "application/vnd.databricks.v1+cell": {
     "cellMetadata": {
      "byteLimit": 2048000,
      "rowLimit": 10000
     },
     "inputWidgets": {},
     "nuid": "01a3193a-c05a-4f94-9466-921502d97383",
     "showTitle": false,
     "title": ""
    }
   },
   "outputs": [],
   "source": [
    "import pickle\n",
    "# Download best model, Random Forest Algorithm\n",
    "pickle.dump(rf_model, open('rf_model_dis.pkl', 'wb'))"
   ]
  },
  {
   "cell_type": "code",
   "execution_count": null,
   "metadata": {
    "application/vnd.databricks.v1+cell": {
     "cellMetadata": {},
     "inputWidgets": {},
     "nuid": "747467c9-2001-4438-8e26-3271cd101125",
     "showTitle": false,
     "title": ""
    }
   },
   "outputs": [],
   "source": [
    "# Data Visualizations"
   ]
  },
  {
   "cell_type": "code",
   "execution_count": null,
   "metadata": {
    "application/vnd.databricks.v1+cell": {
     "cellMetadata": {
      "byteLimit": 2048000,
      "rowLimit": 10000
     },
     "inputWidgets": {},
     "nuid": "7d1dc54e-38cb-4289-9af2-3af229c45908",
     "showTitle": false,
     "title": ""
    }
   },
   "outputs": [
    {
     "ename": "NameError",
     "evalue": "name 'Rank2D' is not defined",
     "output_type": "error",
     "traceback": [
      "\u001b[1;31m---------------------------------------------------------------------------\u001b[0m",
      "\u001b[1;31mNameError\u001b[0m                                 Traceback (most recent call last)",
      "Cell \u001b[1;32mIn[35], line 1\u001b[0m\n\u001b[1;32m----> 1\u001b[0m visualizer \u001b[38;5;241m=\u001b[39m \u001b[43mRank2D\u001b[49m(algorithm\u001b[38;5;241m=\u001b[39m\u001b[38;5;124m'\u001b[39m\u001b[38;5;124mpearson\u001b[39m\u001b[38;5;124m'\u001b[39m)\n\u001b[0;32m      3\u001b[0m visualizer\u001b[38;5;241m.\u001b[39mfit(X, y)           \u001b[38;5;66;03m# Fit the data to the visualizer\u001b[39;00m\n\u001b[0;32m      4\u001b[0m visualizer\u001b[38;5;241m.\u001b[39mtransform(X)        \u001b[38;5;66;03m# Transform the data\u001b[39;00m\n",
      "\u001b[1;31mNameError\u001b[0m: name 'Rank2D' is not defined"
     ]
    }
   ],
   "source": [
    "visualizer = Rank2D(algorithm='pearson')\n",
    "\n",
    "visualizer.fit(X, y)           # Fit the data to the visualizer\n",
    "visualizer.transform(X)        # Transform the data\n",
    "visualizer.show()\n",
    "\n",
    "viz = FeatureImportances(rf_model)\n",
    "viz.fit(X, y)\n",
    "viz.show()\n",
    "\n",
    "viz = ValidationCurve(\n",
    "    RandomForestClassifier(), param_name=\"max_depth\",\n",
    "    param_range=np.arange(1, 11), cv=10, scoring=\"r2\"\n",
    ")\n",
    "\n",
    "# Fit and show the visualizer\n",
    "viz.fit(X, y)\n",
    "viz.show()"
   ]
  }
 ],
 "metadata": {
  "application/vnd.databricks.v1+notebook": {
   "dashboards": [],
   "language": "python",
   "notebookMetadata": {
    "pythonIndentUnit": 4
   },
   "notebookName": "Precision Health (AI Healthcare Automation)",
   "widgets": {}
  },
  "kernelspec": {
   "display_name": "Python 3",
   "language": "python",
   "name": "python3"
  },
  "language_info": {
   "codemirror_mode": {
    "name": "ipython",
    "version": 3
   },
   "file_extension": ".py",
   "mimetype": "text/x-python",
   "name": "python",
   "nbconvert_exporter": "python",
   "pygments_lexer": "ipython3",
   "version": "3.10.11"
  }
 },
 "nbformat": 4,
 "nbformat_minor": 0
}
